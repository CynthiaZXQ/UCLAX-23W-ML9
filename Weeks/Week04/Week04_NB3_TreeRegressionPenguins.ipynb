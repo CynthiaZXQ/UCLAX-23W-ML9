{
  "cells": [
    {
      "cell_type": "markdown",
      "id": "a512a47c-1384-43e2-8413-99ef9330a668",
      "metadata": {},
      "source": "# Penguins dataset\n\nhttps://allisonhorst.github.io/palmerpenguins/"
    },
    {
      "cell_type": "code",
      "execution_count": null,
      "id": "e99b71b1-d66b-4558-8ed1-b61c47887dc0",
      "metadata": {
        "trusted": true
      },
      "outputs": [],
      "source": "import seaborn as sns\nimport matplotlib.pyplot as plt\nimport numpy as np\nimport pandas as pd\nfrom sklearn.metrics import r2_score, mean_squared_error\nimport sklearn.tree"
    },
    {
      "cell_type": "code",
      "execution_count": null,
      "id": "8abef184-3498-418d-a58a-daf8f8c32082",
      "metadata": {
        "trusted": true
      },
      "outputs": [],
      "source": "penguins = sns.load_dataset(\"penguins\")"
    },
    {
      "cell_type": "code",
      "execution_count": null,
      "id": "f27eac6e-54a7-4a95-86d0-3e3c5886131d",
      "metadata": {
        "trusted": true
      },
      "outputs": [],
      "source": "penguins.info()"
    },
    {
      "cell_type": "code",
      "execution_count": null,
      "id": "60a8118d-a3f4-44fb-8054-96b15bccfaa9",
      "metadata": {
        "trusted": true
      },
      "outputs": [],
      "source": "penguins.dropna(subset=['flipper_length_mm'],inplace=True)"
    },
    {
      "cell_type": "code",
      "execution_count": null,
      "id": "afe505f9-d226-483f-a6bf-cb51c79efff8",
      "metadata": {
        "trusted": true
      },
      "outputs": [],
      "source": "penguins.info()"
    },
    {
      "cell_type": "code",
      "execution_count": null,
      "id": "8c05ad37-1b01-43f1-a0ba-fc179f0699f0",
      "metadata": {
        "trusted": true
      },
      "outputs": [],
      "source": "sns.pairplot(data=penguins, hue='species')"
    },
    {
      "cell_type": "code",
      "execution_count": null,
      "id": "c5d661e5-df3d-484e-ac88-bd3ac300ef58",
      "metadata": {
        "trusted": true
      },
      "outputs": [],
      "source": "sns.scatterplot(data=penguins, \n                x='flipper_length_mm',\n                y='body_mass_g')"
    },
    {
      "cell_type": "code",
      "execution_count": null,
      "id": "6dc559e7-da7d-4728-99f9-155ff88ca460",
      "metadata": {
        "trusted": true
      },
      "outputs": [],
      "source": "from sklearn.model_selection import train_test_split\nfrom sklearn.linear_model import LinearRegression"
    },
    {
      "cell_type": "code",
      "execution_count": null,
      "id": "f310b925-1792-4d8c-adcd-9ea9337ff96a",
      "metadata": {
        "trusted": true
      },
      "outputs": [],
      "source": "x_train, x_test, y_train, y_test = train_test_split(penguins[['flipper_length_mm']],\n                                   penguins['body_mass_g'],\n                                   random_state=0)"
    },
    {
      "cell_type": "code",
      "execution_count": null,
      "id": "21366c24-7bc1-4b13-9813-f4521cd53616",
      "metadata": {
        "trusted": true
      },
      "outputs": [],
      "source": "lin_reg = LinearRegression()\nlin_reg.fit(x_train, y_train)"
    },
    {
      "cell_type": "code",
      "execution_count": null,
      "id": "2bc9a6c6-366a-4016-ac76-0326cba3e237",
      "metadata": {
        "trusted": true
      },
      "outputs": [],
      "source": "sns.scatterplot(data=penguins, \n                x='flipper_length_mm',\n                y='body_mass_g')\n\nplt.plot(x_test, y_test, 'ko')\n\nx_sample = pd.DataFrame({'flipper_length_mm':[170,230]})\ny_pred = lin_reg.predict(x_sample)\nplt.plot(x_sample,y_pred)"
    },
    {
      "cell_type": "code",
      "execution_count": null,
      "id": "a09a611e-4d24-4f17-98b1-82c0788073bc",
      "metadata": {
        "trusted": true
      },
      "outputs": [],
      "source": "test_score = lin_reg.score(x_test, y_test)\nprint(f\"R2 of Linear Regression: {test_score:.2f}\")"
    },
    {
      "cell_type": "markdown",
      "id": "77aa05d3-04fd-4113-ad7d-b91443cc4575",
      "metadata": {},
      "source": "## Decision Tree"
    },
    {
      "cell_type": "code",
      "execution_count": null,
      "id": "837d6729-e08f-4c4a-b06a-c6c7d97d9312",
      "metadata": {
        "trusted": true
      },
      "outputs": [],
      "source": "from sklearn.tree import DecisionTreeRegressor\n\ntree_reg = DecisionTreeRegressor(max_depth=20)\ntree_reg.fit(x_train, y_train)"
    },
    {
      "cell_type": "code",
      "execution_count": null,
      "id": "76a08b00-a329-4e5b-85a0-fefe32fdbbd4",
      "metadata": {
        "trusted": true
      },
      "outputs": [],
      "source": "x_test.sort_values('flipper_length_mm')"
    },
    {
      "cell_type": "code",
      "execution_count": null,
      "id": "c9930a2a-9c48-4cee-b8d5-a66889050c5c",
      "metadata": {
        "trusted": true
      },
      "outputs": [],
      "source": "sns.scatterplot(data=penguins, \n                x='flipper_length_mm',\n                y='body_mass_g')\n\nplt.plot(x_test, y_test, 'ko')\n\nx_sample = pd.DataFrame({'flipper_length_mm':[i/10 for i in range(1700,2300)]})\ny_pred = tree_reg.predict(x_sample)\nplt.plot(x_sample,y_pred,'r',linewidth=3)"
    },
    {
      "cell_type": "code",
      "execution_count": null,
      "id": "652a57d7-a53c-4e77-abee-6b84183397e6",
      "metadata": {
        "trusted": true
      },
      "outputs": [],
      "source": "test_score = tree_reg.score(x_test, y_test)\nprint(f\"R2 of Linear Regression: {test_score:.2f}\")"
    },
    {
      "cell_type": "code",
      "execution_count": null,
      "id": "6801d157-1ba1-4b7f-82ca-6c6323f5f838",
      "metadata": {
        "trusted": true
      },
      "outputs": [],
      "source": "r2score = r2_score(y_test, tree_reg.predict(x_test))\nmsescore = mean_squared_error(y_test, tree_reg.predict(x_test))"
    },
    {
      "cell_type": "code",
      "execution_count": null,
      "id": "10b80be4-918a-402c-9b4c-2b1a5ac6cb8c",
      "metadata": {
        "trusted": true
      },
      "outputs": [],
      "source": "print(\"Testing score R2 : \", r2score)\nprint(\"Testing score StdDev : \", np.sqrt(msescore))"
    },
    {
      "cell_type": "code",
      "execution_count": null,
      "id": "ed75d878-3e8d-42cc-9cbb-90c8e4f243dd",
      "metadata": {
        "trusted": true
      },
      "outputs": [],
      "source": "import ipywidgets"
    },
    {
      "cell_type": "code",
      "execution_count": null,
      "id": "6ea4c774-a7a9-49fc-a70c-3690de139f12",
      "metadata": {
        "trusted": true
      },
      "outputs": [],
      "source": "x_sample = pd.DataFrame({'flipper_length_mm':[i/10 for i in range(1700,2300)]})\n\ndef treeline(md=1):\n    tree_reg = DecisionTreeRegressor(max_depth=md)\n    tree_reg.fit(x_train, y_train)\n    sns.scatterplot(data=penguins, \n                    x='flipper_length_mm',\n                    y='body_mass_g')\n    plt.plot(x_test, y_test, 'ko')\n    y_pred = tree_reg.predict(x_sample)\n    plt.plot(x_sample,y_pred,'r',linewidth=3)\n    r2score = r2_score(y_test, tree_reg.predict(x_test))\n    print(\"Testing score R2 : \", r2score)\n    plt.show()\n    \nipywidgets.interactive(treeline,md=(1,30))"
    },
    {
      "cell_type": "code",
      "execution_count": null,
      "id": "39ac7387-e54d-4e09-921a-bda78e715525",
      "metadata": {
        "trusted": true
      },
      "outputs": [],
      "source": "tree_reg = DecisionTreeRegressor(max_depth=3)\ntree_reg.fit(x_train, y_train)\nsns.scatterplot(data=penguins, \n                x='flipper_length_mm',\n                y='body_mass_g')\nplt.plot(x_test, y_test, 'ko')\ny_pred = tree_reg.predict(x_sample)\nplt.plot(x_sample,y_pred,'r',linewidth=3)\nr2score = r2_score(y_test, tree_reg.predict(x_test))\nprint(\"Testing score R2 : \", r2score)\nplt.show()\ntext_representation = sklearn.tree.export_text(tree_reg)\nprint(text_representation)\nplt.figure(figsize=(12,8))\nsklearn.tree.plot_tree(tree_reg, \n               feature_names=['flipper_length_mm'],  \n               class_names=['body_mass_g'],\n               filled=True);\n"
    },
    {
      "cell_type": "code",
      "execution_count": null,
      "id": "5423ae47",
      "metadata": {
        "trusted": true
      },
      "outputs": [],
      "source": "# !pip install dtreeviz"
    },
    {
      "cell_type": "code",
      "execution_count": null,
      "id": "c64afc5d-5d83-4a8e-986d-2343f1019f7b",
      "metadata": {
        "trusted": true
      },
      "outputs": [],
      "source": "import dtreeviz"
    },
    {
      "cell_type": "code",
      "execution_count": null,
      "id": "b5132f47-b052-41a6-9592-f994f172638e",
      "metadata": {
        "scrolled": false,
        "trusted": true
      },
      "outputs": [],
      "source": "%%capture --no-display\n\nvizmodel = dtreeviz.model(tree_reg, \n         x_train, \n         y_train,\n         feature_names=['flipper_length_mm'],\n         class_names=['body_mass_g'],\n         target_name=\"body_mass_g\")\nvizmodel.view()"
    },
    {
      "cell_type": "markdown",
      "id": "972f34ef-b086-4c81-9614-fc67dc47bc81",
      "metadata": {},
      "source": "## Exercise\n\nAdapt the above to do Linear Regression and Decision Tree Regression on last week's breast cancer dataset.\n* Use \"mean radius\" as the feature variable and \"mean concave points\" as the target variable\n* I have included a couple cells to get you started."
    },
    {
      "cell_type": "code",
      "execution_count": null,
      "id": "3fd3fc85-ead3-4a5b-9c22-16dbc4ed2b6f",
      "metadata": {
        "trusted": true
      },
      "outputs": [],
      "source": "import sklearn.datasets\nimport sklearn.model_selection\n\nx,y = sklearn.datasets.load_breast_cancer(return_X_y=True,\n                                          as_frame=True)"
    },
    {
      "cell_type": "code",
      "execution_count": null,
      "id": "f3cc2010-177c-4116-aff8-004c3422f248",
      "metadata": {
        "trusted": true
      },
      "outputs": [],
      "source": "x['target'] = y"
    },
    {
      "cell_type": "code",
      "execution_count": null,
      "id": "93d5e1f9-9088-4f54-b164-a3e4526d00c9",
      "metadata": {
        "trusted": true
      },
      "outputs": [],
      "source": "x.corr()['mean radius']"
    },
    {
      "cell_type": "code",
      "execution_count": null,
      "id": "d011160e-3ad9-47bb-89bc-06177172fbd6",
      "metadata": {
        "trusted": true
      },
      "outputs": [],
      "source": "sns.scatterplot(data=x, \n                x='mean radius', \n                y='mean concave points')"
    },
    {
      "cell_type": "code",
      "execution_count": null,
      "id": "2eeaf739-1c92-45ac-8e44-b4eb9f35d033",
      "metadata": {
        "trusted": true
      },
      "outputs": [],
      "source": "# split into training/test sets\n\n"
    },
    {
      "cell_type": "code",
      "execution_count": null,
      "id": "4ed4b227-7014-4cec-861d-24a2297c8eb0",
      "metadata": {
        "trusted": true
      },
      "outputs": [],
      "source": "# initialize the linear regression model\n"
    },
    {
      "cell_type": "code",
      "execution_count": null,
      "id": "9ae5a53f-97e5-4dcf-8dcf-3ad4f525337a",
      "metadata": {
        "trusted": true
      },
      "outputs": [],
      "source": "# train the linear regression model\n"
    },
    {
      "cell_type": "code",
      "execution_count": null,
      "id": "8389b66f-1001-4f5a-b2fb-ebbc4c96d499",
      "metadata": {
        "trusted": true
      },
      "outputs": [],
      "source": "# plot the trained linear model with the data\n"
    },
    {
      "cell_type": "code",
      "execution_count": null,
      "id": "f4945b8f-53c3-415c-ac65-368c5c9599fb",
      "metadata": {
        "trusted": true
      },
      "outputs": [],
      "source": "# print the R2 score of the model\n"
    },
    {
      "cell_type": "markdown",
      "id": "8c284da4-4a44-4bbd-bc4f-561ff1d8cd70",
      "metadata": {},
      "source": "## Decision Tree"
    },
    {
      "cell_type": "code",
      "execution_count": null,
      "id": "1831c580-e565-46f3-90d8-41019325dacb",
      "metadata": {
        "trusted": true
      },
      "outputs": [],
      "source": "# initialize the decision tree regression model\n"
    },
    {
      "cell_type": "code",
      "execution_count": null,
      "id": "dbfdf319-e898-403f-8487-010e64e19573",
      "metadata": {
        "trusted": true
      },
      "outputs": [],
      "source": "# train the decision tree regression model\n"
    },
    {
      "cell_type": "code",
      "execution_count": null,
      "id": "ca619b2a-d01c-451d-aa76-17bedb50357a",
      "metadata": {
        "trusted": true
      },
      "outputs": [],
      "source": "# plot the decision boundary with the data\n"
    },
    {
      "cell_type": "code",
      "execution_count": null,
      "id": "cdc80477-50c4-4e3f-a62c-318783c5f1cf",
      "metadata": {
        "trusted": true
      },
      "outputs": [],
      "source": "# print out a text representation of the tree\n"
    },
    {
      "cell_type": "code",
      "execution_count": null,
      "id": "922def3f-1584-47f8-a273-9f2e1d17eb7b",
      "metadata": {
        "trusted": true
      },
      "outputs": [],
      "source": "# plot a visualization of the tree\n"
    },
    {
      "cell_type": "code",
      "execution_count": null,
      "id": "81320323-8f68-403b-b821-b6b072a45ada",
      "metadata": {
        "trusted": true
      },
      "outputs": [],
      "source": "# print the R2 score of the model\n"
    },
    {
      "cell_type": "code",
      "execution_count": null,
      "id": "1a35580a-88ec-4048-9542-1a9456b8b537",
      "metadata": {
        "trusted": true
      },
      "outputs": [],
      "source": "# make a sample data point of mean radius\n# and predict its corresponding mean concave points value\n"
    }
  ],
  "metadata": {
    "kernelspec": {
      "display_name": "Python 3 (ipykernel)",
      "language": "python",
      "name": "python3"
    },
    "language_info": {
      "codemirror_mode": {
        "name": "ipython",
        "version": 3
      },
      "file_extension": ".py",
      "mimetype": "text/x-python",
      "name": "python",
      "nbconvert_exporter": "python",
      "pygments_lexer": "ipython3",
      "version": "3.10.8"
    }
  },
  "nbformat": 4,
  "nbformat_minor": 5
}