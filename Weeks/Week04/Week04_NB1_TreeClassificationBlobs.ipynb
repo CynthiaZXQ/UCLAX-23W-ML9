{
  "cells": [
    {
      "cell_type": "code",
      "execution_count": null,
      "id": "e67a7a49",
      "metadata": {
        "trusted": true
      },
      "outputs": [],
      "source": "# !pip install dtreeviz"
    },
    {
      "cell_type": "code",
      "execution_count": null,
      "id": "026e801b-a442-4cb8-9ef7-0ba0513fbdb1",
      "metadata": {
        "trusted": true
      },
      "outputs": [],
      "source": "import numpy as np\nimport pandas as pd\nimport seaborn as sns\nimport matplotlib.pyplot as plt\nfrom sklearn.datasets import make_blobs\nfrom sklearn.linear_model import LogisticRegression\nfrom sklearn.tree import DecisionTreeClassifier\nimport sklearn.tree\nfrom sklearn.inspection import DecisionBoundaryDisplay\nfrom sklearn.model_selection import train_test_split\nimport dtreeviz"
    },
    {
      "cell_type": "markdown",
      "id": "f1653185-52e3-45af-b114-78bb5594436a",
      "metadata": {},
      "source": "Using make_blobs to generate some data for classification:\nhttps://docs.w3cub.com/scikit_learn/modules/generated/sklearn.datasets.make_blobs"
    },
    {
      "cell_type": "code",
      "execution_count": null,
      "id": "334592a1-fc5d-4cfa-a2d3-5ee43792414a",
      "metadata": {
        "trusted": true
      },
      "outputs": [],
      "source": "x, y = make_blobs(n_samples=300,\n                  random_state=0, \n                  cluster_std=2)"
    },
    {
      "cell_type": "code",
      "execution_count": null,
      "id": "03a098a5-858f-4db1-94ef-aa5cf39e745f",
      "metadata": {
        "trusted": true
      },
      "outputs": [],
      "source": "df = pd.DataFrame({'x0':x[:,0], \n                   'x1':x[:,1], \n                   'y':y})"
    },
    {
      "cell_type": "code",
      "execution_count": null,
      "id": "ebdedb5a-035a-4512-8255-b33367b84717",
      "metadata": {
        "trusted": true
      },
      "outputs": [],
      "source": "sns.scatterplot(data=df,\n                x='x0',\n                y='x1',\n                hue='y',\n                palette=['red','green','blue'])"
    },
    {
      "cell_type": "markdown",
      "id": "6af05fa1-33bc-44bb-95e4-8feb0457ce61",
      "metadata": {},
      "source": "## Train/test split"
    },
    {
      "cell_type": "code",
      "execution_count": null,
      "id": "2843d85f-aab0-437f-92aa-cc029b0c48cb",
      "metadata": {
        "trusted": true
      },
      "outputs": [],
      "source": "x_train, x_test, y_train, y_test = train_test_split(df[['x0','x1']], \n                                                    df['y'], \n                                                    random_state=0)"
    },
    {
      "cell_type": "markdown",
      "id": "ddf3f4d1-8e49-4767-9beb-98161bee50ab",
      "metadata": {},
      "source": "## First, Logistic Regression"
    },
    {
      "cell_type": "code",
      "execution_count": null,
      "id": "6dd70742-e447-4fec-bced-1bda237b5966",
      "metadata": {
        "trusted": true
      },
      "outputs": [],
      "source": "logreg_clf = LogisticRegression()\nlogreg_clf.fit(x_train, y_train)"
    },
    {
      "cell_type": "code",
      "execution_count": null,
      "id": "3d934d71-df40-4616-806e-5fec8571d069",
      "metadata": {
        "trusted": true
      },
      "outputs": [],
      "source": "DecisionBoundaryDisplay.from_estimator(logreg_clf, \n                                       df[['x0','x1']], \n                                       response_method=\"predict\",\n                                       cmap=\"RdBu\", \n                                       alpha=0.5\n)\n\nsns.scatterplot(data=df,\n                x='x0', \n                y='x1',\n                hue='y',\n                palette=['red','green','blue'])\n\nplt.legend(bbox_to_anchor=(1.05, 1), loc='upper left')"
    },
    {
      "cell_type": "code",
      "execution_count": null,
      "id": "8f5d55d0-197f-4173-b73a-0d44e33aa291",
      "metadata": {
        "trusted": true
      },
      "outputs": [],
      "source": "test_score = logreg_clf.score(x_test, y_test)\nprint(f\"Accuracy of Logistic Regression: {test_score:.2f}\")"
    },
    {
      "cell_type": "markdown",
      "id": "0ba8b184-595a-46bf-8730-31d15041be9c",
      "metadata": {},
      "source": "## Decision Tree"
    },
    {
      "cell_type": "code",
      "execution_count": null,
      "id": "016aee27-20f0-41ff-bf74-47be7be4c2f3",
      "metadata": {
        "trusted": true
      },
      "outputs": [],
      "source": "tree_clf = DecisionTreeClassifier()\n\n# tree_clf = DecisionTreeClassifier(max_depth=2)"
    },
    {
      "cell_type": "code",
      "execution_count": null,
      "id": "b258670b-2886-4ac1-8266-f8e43621836a",
      "metadata": {
        "trusted": true
      },
      "outputs": [],
      "source": "tree_clf.fit(x_train, y_train)"
    },
    {
      "cell_type": "code",
      "execution_count": null,
      "id": "e67b4e7d-66bf-4c73-bcbf-af942bf8ca1b",
      "metadata": {
        "trusted": true
      },
      "outputs": [],
      "source": "DecisionBoundaryDisplay.from_estimator(tree_clf, \n                                       df[['x0','x1']], \n                                       response_method=\"predict\",\n                                       cmap=\"RdBu\", \n                                       alpha=0.5\n)\n\nsns.scatterplot(data=df,\n                x='x0', \n                y='x1',\n                hue='y',\n                palette=['red','green','blue'])\n\nplt.legend(bbox_to_anchor=(1.05, 1), loc='upper left')"
    },
    {
      "cell_type": "code",
      "execution_count": null,
      "id": "b8390e58-38f1-479e-82ab-ab005453f38d",
      "metadata": {
        "scrolled": false,
        "trusted": true
      },
      "outputs": [],
      "source": "text_representation = sklearn.tree.export_text(tree_clf)\nprint(text_representation)"
    },
    {
      "cell_type": "code",
      "execution_count": null,
      "id": "f42fbf73-962d-46a5-981c-cd890e7345bf",
      "metadata": {
        "trusted": true
      },
      "outputs": [],
      "source": "tree_clf.classes_"
    },
    {
      "cell_type": "code",
      "execution_count": null,
      "id": "c0dbcfec-6d0c-4729-845c-baa0ecc347e6",
      "metadata": {
        "trusted": true
      },
      "outputs": [],
      "source": "plt.figure(figsize=(12,8))\nsklearn.tree.plot_tree(tree_clf, \n               feature_names=['x0','x1'],  \n               class_names=[str(i) for i in tree_clf.classes_],\n               filled=True);"
    },
    {
      "cell_type": "code",
      "execution_count": null,
      "id": "fd2efb40",
      "metadata": {
        "trusted": true
      },
      "outputs": [],
      "source": "%%capture --no-display\n\ndtreeviz.dtreeviz(tree_clf, \n         df[['x0','x1']], \n         df['y'],\n         feature_names=['x0','x1'],\n         class_names=[i for i in tree_clf.classes_],\n         target_name=\"y\")"
    },
    {
      "cell_type": "code",
      "execution_count": null,
      "id": "b9b9e1df-968d-440b-9c69-f11f7b27cb91",
      "metadata": {
        "scrolled": false,
        "trusted": true
      },
      "outputs": [],
      "source": "%%capture --no-display\n\nvizmodel = dtreeviz.model(tree_clf, \n         df[['x0','x1']], \n         df['y'],\n         feature_names=['x0','x1'],\n         class_names=[i for i in tree_clf.classes_],\n         target_name=\"y\")\n# vizmodel.view()\nsample = pd.DataFrame({\"x0\": [0.], \"x1\": [1.]})\nvizmodel.explain_prediction_path([0,1])"
    },
    {
      "cell_type": "code",
      "execution_count": null,
      "id": "880c3309-ce20-48e3-ae40-d3484bc2becb",
      "metadata": {
        "trusted": true
      },
      "outputs": [],
      "source": "test_score = tree_clf.score(x_test, y_test)\nprint(f\"Accuracy of Decision Tree: {test_score:.2f}\")"
    },
    {
      "cell_type": "markdown",
      "id": "521c6d68-baac-4b3d-bb8f-235abd615612",
      "metadata": {},
      "source": "### How to make predictions?"
    },
    {
      "cell_type": "code",
      "execution_count": null,
      "id": "4b8d8476-c9b3-4267-9655-a95cdced0acc",
      "metadata": {
        "trusted": true
      },
      "outputs": [],
      "source": "sample = pd.DataFrame({\"x0\": [0.], \"x1\": [1]})\nprint('Predicted Class:',tree_clf.predict(sample))"
    },
    {
      "cell_type": "code",
      "execution_count": null,
      "id": "2830bab3-eeb8-4408-bf6d-e9b2d8bc54a4",
      "metadata": {
        "trusted": true
      },
      "outputs": [],
      "source": "y_pred_proba = tree_clf.predict_proba(sample)\nprint(y_pred_proba)"
    },
    {
      "cell_type": "code",
      "execution_count": null,
      "id": "3694be70-f551-4bd3-9edf-3bb30dd7a360",
      "metadata": {
        "trusted": true
      },
      "outputs": [],
      "source": "y_proba_class_0 = pd.Series(y_pred_proba[0], index=tree_clf.classes_).plot.bar()"
    },
    {
      "cell_type": "markdown",
      "id": "fdc10d77-370b-42b3-9a75-0d9922811f65",
      "metadata": {},
      "source": "## Exercise\n\nAdapt the above to do Logistic Regression and Decision Tree Classification on last week's classification dataset on breast cancer.\n* Use the feature variables \"mean radius\" and \"mean texture\"\n* Predict the 0 or 1 cancer target variable\n* I have included a couple cells to get you started."
    },
    {
      "cell_type": "code",
      "execution_count": null,
      "id": "a8cede9f-7738-4ea9-b810-c06493ccf273",
      "metadata": {
        "trusted": true
      },
      "outputs": [],
      "source": "import sklearn.datasets\nimport sklearn.model_selection\n\nx,y = sklearn.datasets.load_breast_cancer(return_X_y=True,\n                                          as_frame=True)"
    },
    {
      "cell_type": "code",
      "execution_count": null,
      "id": "45ce3a6c-3d9c-42c9-ad1e-ef8fa50162c0",
      "metadata": {
        "trusted": true
      },
      "outputs": [],
      "source": "x['target'] = y"
    },
    {
      "cell_type": "code",
      "execution_count": null,
      "id": "5e21cc07-f549-45ae-b624-b2dd621ea1d9",
      "metadata": {
        "trusted": true
      },
      "outputs": [],
      "source": "x.corr()['target']"
    },
    {
      "cell_type": "code",
      "execution_count": null,
      "id": "75d921a6-fec0-4046-ba9e-33486904806b",
      "metadata": {
        "trusted": true
      },
      "outputs": [],
      "source": "sns.scatterplot(data=x, \n                x='mean radius', \n                y='mean texture',\n                hue='target')"
    },
    {
      "cell_type": "code",
      "execution_count": null,
      "id": "2eeaf739-1c92-45ac-8e44-b4eb9f35d033",
      "metadata": {
        "trusted": true
      },
      "outputs": [],
      "source": "# split into training/test sets\n\n"
    },
    {
      "cell_type": "code",
      "execution_count": null,
      "id": "4ed4b227-7014-4cec-861d-24a2297c8eb0",
      "metadata": {
        "trusted": true
      },
      "outputs": [],
      "source": "# initialize the logistic regression model\n"
    },
    {
      "cell_type": "code",
      "execution_count": null,
      "id": "9ae5a53f-97e5-4dcf-8dcf-3ad4f525337a",
      "metadata": {
        "trusted": true
      },
      "outputs": [],
      "source": "# train the logistic regression model\n"
    },
    {
      "cell_type": "code",
      "execution_count": null,
      "id": "8389b66f-1001-4f5a-b2fb-ebbc4c96d499",
      "metadata": {
        "trusted": true
      },
      "outputs": [],
      "source": "# plot the decision boundary with the data\n"
    },
    {
      "cell_type": "code",
      "execution_count": null,
      "id": "f4945b8f-53c3-415c-ac65-368c5c9599fb",
      "metadata": {
        "trusted": true
      },
      "outputs": [],
      "source": "# print the accuracy of the model\n"
    },
    {
      "cell_type": "markdown",
      "id": "f9d70407-9c86-4b5a-ae37-c83e009e5525",
      "metadata": {},
      "source": "## Decision Tree"
    },
    {
      "cell_type": "code",
      "execution_count": null,
      "id": "1831c580-e565-46f3-90d8-41019325dacb",
      "metadata": {
        "trusted": true
      },
      "outputs": [],
      "source": "# initialize the decision tree classification model\n"
    },
    {
      "cell_type": "code",
      "execution_count": null,
      "id": "dbfdf319-e898-403f-8487-010e64e19573",
      "metadata": {
        "trusted": true
      },
      "outputs": [],
      "source": "# train the decision tree classification model\n"
    },
    {
      "cell_type": "code",
      "execution_count": null,
      "id": "ca619b2a-d01c-451d-aa76-17bedb50357a",
      "metadata": {
        "trusted": true
      },
      "outputs": [],
      "source": "# plot the decision boundary with the data\n"
    },
    {
      "cell_type": "code",
      "execution_count": null,
      "id": "cdc80477-50c4-4e3f-a62c-318783c5f1cf",
      "metadata": {
        "trusted": true
      },
      "outputs": [],
      "source": "# print out a text representation of the tree\n"
    },
    {
      "cell_type": "code",
      "execution_count": null,
      "id": "922def3f-1584-47f8-a273-9f2e1d17eb7b",
      "metadata": {
        "trusted": true
      },
      "outputs": [],
      "source": "# plot a visualization of the tree\n"
    },
    {
      "cell_type": "code",
      "execution_count": null,
      "id": "81320323-8f68-403b-b821-b6b072a45ada",
      "metadata": {
        "trusted": true
      },
      "outputs": [],
      "source": "# print the accuracy of the model\n"
    },
    {
      "cell_type": "code",
      "execution_count": null,
      "id": "1a35580a-88ec-4048-9542-1a9456b8b537",
      "metadata": {
        "trusted": true
      },
      "outputs": [],
      "source": "# make a sample data point\n# predict its class\n# and print the calculated prediction probabilities for each class\n\n"
    }
  ],
  "metadata": {
    "kernelspec": {
      "display_name": "Python 3 (ipykernel)",
      "language": "python",
      "name": "python3"
    },
    "language_info": {
      "codemirror_mode": {
        "name": "ipython",
        "version": 3
      },
      "file_extension": ".py",
      "mimetype": "text/x-python",
      "name": "python",
      "nbconvert_exporter": "python",
      "pygments_lexer": "ipython3",
      "version": "3.10.8"
    }
  },
  "nbformat": 4,
  "nbformat_minor": 5
}