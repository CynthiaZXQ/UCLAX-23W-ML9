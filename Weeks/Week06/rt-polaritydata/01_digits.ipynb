{
 "cells": [
  {
   "cell_type": "markdown",
   "id": "702a52d0-2806-4a93-8243-2e488aec74be",
   "metadata": {},
   "source": [
    "## Classifying Handwritten Digits"
   ]
  },
  {
   "cell_type": "code",
   "execution_count": 1,
   "id": "14c49eba-4984-4d7c-852c-9f3315b8d649",
   "metadata": {},
   "outputs": [],
   "source": [
    "import matplotlib.pyplot as plt\n",
    "import sklearn.datasets\n",
    "import sklearn.model_selection\n",
    "import sklearn.metrics"
   ]
  },
  {
   "cell_type": "markdown",
   "id": "811fbf4c-ea6b-4acf-82f1-0e6466a1e1c6",
   "metadata": {},
   "source": [
    "We use the toy digit dataset provided by scikit-learn.  \n",
    "\n",
    "(You may also find it fun later to try your hand at the MNIST dataset, one of the classic initial problems for budding machine-learning practicioners.)"
   ]
  },
  {
   "cell_type": "code",
   "execution_count": 2,
   "id": "4483ce3b-9f1a-4c95-8d8c-584a4e0bbbb1",
   "metadata": {},
   "outputs": [],
   "source": [
    "d = sklearn.datasets.load_digits()"
   ]
  },
  {
   "cell_type": "code",
   "execution_count": 3,
   "id": "f7614fcd-1d24-4ccb-96bb-f7fbe43b8450",
   "metadata": {},
   "outputs": [
    {
     "name": "stdout",
     "output_type": "stream",
     "text": [
      ".. _digits_dataset:\n",
      "\n",
      "Optical recognition of handwritten digits dataset\n",
      "--------------------------------------------------\n",
      "\n",
      "**Data Set Characteristics:**\n",
      "\n",
      "    :Number of Instances: 1797\n",
      "    :Number of Attributes: 64\n",
      "    :Attribute Information: 8x8 image of integer pixels in the range 0..16.\n",
      "    :Missing Attribute Values: None\n",
      "    :Creator: E. Alpaydin (alpaydin '@' boun.edu.tr)\n",
      "    :Date: July; 1998\n",
      "\n",
      "This is a copy of the test set of the UCI ML hand-written digits datasets\n",
      "https://archive.ics.uci.edu/ml/datasets/Optical+Recognition+of+Handwritten+Digits\n",
      "\n",
      "The data set contains images of hand-written digits: 10 classes where\n",
      "each class refers to a digit.\n",
      "\n",
      "Preprocessing programs made available by NIST were used to extract\n",
      "normalized bitmaps of handwritten digits from a preprinted form. From a\n",
      "total of 43 people, 30 contributed to the training set and different 13\n",
      "to the test set. 32x32 bitmaps are divided into nonoverlapping blocks of\n",
      "4x4 and the number of on pixels are counted in each block. This generates\n",
      "an input matrix of 8x8 where each element is an integer in the range\n",
      "0..16. This reduces dimensionality and gives invariance to small\n",
      "distortions.\n",
      "\n",
      "For info on NIST preprocessing routines, see M. D. Garris, J. L. Blue, G.\n",
      "T. Candela, D. L. Dimmick, J. Geist, P. J. Grother, S. A. Janet, and C.\n",
      "L. Wilson, NIST Form-Based Handprint Recognition System, NISTIR 5469,\n",
      "1994.\n",
      "\n",
      ".. topic:: References\n",
      "\n",
      "  - C. Kaynak (1995) Methods of Combining Multiple Classifiers and Their\n",
      "    Applications to Handwritten Digit Recognition, MSc Thesis, Institute of\n",
      "    Graduate Studies in Science and Engineering, Bogazici University.\n",
      "  - E. Alpaydin, C. Kaynak (1998) Cascading Classifiers, Kybernetika.\n",
      "  - Ken Tang and Ponnuthurai N. Suganthan and Xi Yao and A. Kai Qin.\n",
      "    Linear dimensionalityreduction using relevance weighted LDA. School of\n",
      "    Electrical and Electronic Engineering Nanyang Technological University.\n",
      "    2005.\n",
      "  - Claudio Gentile. A New Approximate Maximal Margin Classification\n",
      "    Algorithm. NIPS. 2000.\n",
      "\n"
     ]
    }
   ],
   "source": [
    "print(d.DESCR)"
   ]
  },
  {
   "cell_type": "code",
   "execution_count": 4,
   "id": "a3c23bbb-17b4-487c-abb7-8057737521fd",
   "metadata": {},
   "outputs": [],
   "source": [
    "x = d.data\n",
    "y = d.target"
   ]
  },
  {
   "cell_type": "code",
   "execution_count": 5,
   "id": "5dc9ad95-7a4f-4144-8442-9ea1285cd2ca",
   "metadata": {},
   "outputs": [
    {
     "data": {
      "text/plain": [
       "(1797, 64)"
      ]
     },
     "execution_count": 5,
     "metadata": {},
     "output_type": "execute_result"
    }
   ],
   "source": [
    "x.shape"
   ]
  },
  {
   "cell_type": "code",
   "execution_count": 6,
   "id": "45562dc7-b7b2-496a-b19b-d2dc9bbb666e",
   "metadata": {},
   "outputs": [
    {
     "data": {
      "text/plain": [
       "(1797,)"
      ]
     },
     "execution_count": 6,
     "metadata": {},
     "output_type": "execute_result"
    }
   ],
   "source": [
    "y.shape"
   ]
  },
  {
   "cell_type": "code",
   "execution_count": 7,
   "id": "c87995c4-adc7-4ed1-bf4c-44c0c058c176",
   "metadata": {},
   "outputs": [
    {
     "data": {
      "text/plain": [
       "array([ 0.,  0.,  5., 13.,  9.,  1.,  0.,  0.,  0.,  0., 13., 15., 10.,\n",
       "       15.,  5.,  0.,  0.,  3., 15.,  2.,  0., 11.,  8.,  0.,  0.,  4.,\n",
       "       12.,  0.,  0.,  8.,  8.,  0.,  0.,  5.,  8.,  0.,  0.,  9.,  8.,\n",
       "        0.,  0.,  4., 11.,  0.,  1., 12.,  7.,  0.,  0.,  2., 14.,  5.,\n",
       "       10., 12.,  0.,  0.,  0.,  0.,  6., 13., 10.,  0.,  0.,  0.])"
      ]
     },
     "execution_count": 7,
     "metadata": {},
     "output_type": "execute_result"
    }
   ],
   "source": [
    "x[0]"
   ]
  },
  {
   "cell_type": "code",
   "execution_count": 8,
   "id": "3c552e99-3f17-47d0-b8f0-19d77c4dfc9f",
   "metadata": {},
   "outputs": [
    {
     "data": {
      "text/plain": [
       "0"
      ]
     },
     "execution_count": 8,
     "metadata": {},
     "output_type": "execute_result"
    }
   ],
   "source": [
    "y[0]"
   ]
  },
  {
   "cell_type": "markdown",
   "id": "530aa893-ce0d-485d-bf3e-b1d3cffe114b",
   "metadata": {},
   "source": [
    "The samples consist of 64 features, one for each pixel value of an 8x8 image array.  We can reshape the sample into an 8x8 array in order to visualize it."
   ]
  },
  {
   "cell_type": "code",
   "execution_count": 9,
   "id": "24d33b12-bd83-4c33-8245-b318894c4696",
   "metadata": {},
   "outputs": [
    {
     "data": {
      "text/plain": [
       "<matplotlib.image.AxesImage at 0x7f1da4dd0430>"
      ]
     },
     "execution_count": 9,
     "metadata": {},
     "output_type": "execute_result"
    },
    {
     "data": {
      "image/png": "[encoded data removed]",
      "text/plain": [
       "<Figure size 432x288 with 1 Axes>"
      ]
     },
     "metadata": {
      "needs_background": "light"
     },
     "output_type": "display_data"
    }
   ],
   "source": [
    "sample = x[4].reshape(8,8)\n",
    "plt.imshow(sample, cmap='binary')"
   ]
  },
  {
   "cell_type": "code",
   "execution_count": 10,
   "id": "60d39beb-140b-4d74-9a06-d4d8867b6614",
   "metadata": {},
   "outputs": [
    {
     "data": {
      "image/png": "[encoded data removed]",
      "text/plain": [
       "<Figure size 432x288 with 100 Axes>"
      ]
     },
     "metadata": {
      "needs_background": "light"
     },
     "output_type": "display_data"
    }
   ],
   "source": [
    "for i in range(100):\n",
    "    plt.subplot(10,10,i+1)\n",
    "    sample = x[i].reshape(8,8)\n",
    "    plt.imshow(sample, cmap='binary')"
   ]
  },
  {
   "cell_type": "markdown",
   "id": "5342e65c-f978-40cd-b65e-d381fc69969d",
   "metadata": {},
   "source": [
    "## Random Forest"
   ]
  },
  {
   "cell_type": "code",
   "execution_count": 11,
   "id": "8ca6e0db-9d8d-4c7d-acf6-cd4fa30a7378",
   "metadata": {},
   "outputs": [],
   "source": [
    "import sklearn.ensemble\n",
    "rf_classifier = sklearn.ensemble.RandomForestClassifier(max_depth=5)"
   ]
  },
  {
   "cell_type": "code",
   "execution_count": 12,
   "id": "d84bc854-8edf-4d36-8ff2-43197d35b0cd",
   "metadata": {},
   "outputs": [],
   "source": [
    "x_train, x_test, y_train, y_test = sklearn.model_selection.train_test_split(\n",
    "        x, y, test_size=0.2, random_state=42)"
   ]
  },
  {
   "cell_type": "markdown",
   "id": "59257867-907f-4f56-8f24-2d2b3c7a7775",
   "metadata": {},
   "source": [
    "One catch to watch out for in splitting up your data into training and test sets:  stratification.\n",
    "\n",
    "Let's say you have a dataset that has 90% cat images and 10% dog images.  If you split your data and end up with 99% cats in your training data and 1% dogs, you'll be training your model on an unrepresentative sample.  (Sampling issues like this can be much more consequential and damaging than distinguishing cats from dogs!)"
   ]
  },
  {
   "cell_type": "code",
   "execution_count": 13,
   "id": "cdbb5b75-2764-4572-b5f8-82765c30d9af",
   "metadata": {},
   "outputs": [
    {
     "data": {
      "text/plain": [
       "(array([178., 182., 177., 183., 181., 182., 181., 179., 174., 180.]),\n",
       " array([0. , 0.9, 1.8, 2.7, 3.6, 4.5, 5.4, 6.3, 7.2, 8.1, 9. ]),\n",
       " <BarContainer object of 10 artists>)"
      ]
     },
     "execution_count": 13,
     "metadata": {},
     "output_type": "execute_result"
    },
    {
     "data": {
      "image/png": "[encoded data removed]",
      "text/plain": [
       "<Figure size 432x288 with 1 Axes>"
      ]
     },
     "metadata": {
      "needs_background": "light"
     },
     "output_type": "display_data"
    }
   ],
   "source": [
    "plt.hist(y, width=0.5)"
   ]
  },
  {
   "cell_type": "code",
   "execution_count": 14,
   "id": "0e762830-36e3-4446-a615-0839aa02e48b",
   "metadata": {},
   "outputs": [
    {
     "data": {
      "text/plain": [
       "(array([145., 154., 144., 149., 135., 135., 146., 145., 144., 140.]),\n",
       " array([0. , 0.9, 1.8, 2.7, 3.6, 4.5, 5.4, 6.3, 7.2, 8.1, 9. ]),\n",
       " <BarContainer object of 10 artists>)"
      ]
     },
     "execution_count": 14,
     "metadata": {},
     "output_type": "execute_result"
    },
    {
     "data": {
      "image/png": "[encoded data removed]",
      "text/plain": [
       "<Figure size 432x288 with 1 Axes>"
      ]
     },
     "metadata": {
      "needs_background": "light"
     },
     "output_type": "display_data"
    }
   ],
   "source": [
    "plt.hist(y_train, width=0.5)"
   ]
  },
  {
   "cell_type": "markdown",
   "id": "82a1e8c0-4a91-4118-a165-1250c3e07d59",
   "metadata": {},
   "source": [
    "Here the difference in percentages is noticeable but not too significant by eye.  Nevertheless, we can stratify our split properly by including the \"stratify\" parameter and assigning it our target variable."
   ]
  },
  {
   "cell_type": "code",
   "execution_count": 15,
   "id": "6b7c4692-a0c8-4991-949e-7541a5bb34e0",
   "metadata": {},
   "outputs": [],
   "source": [
    "x_train, x_test, y_train, y_test = sklearn.model_selection.train_test_split(\n",
    "        x, y, test_size=0.2, random_state=42, stratify=y)"
   ]
  },
  {
   "cell_type": "code",
   "execution_count": 16,
   "id": "f93234e5-0dd8-469e-9f31-86078c148430",
   "metadata": {},
   "outputs": [
    {
     "data": {
      "text/plain": [
       "(array([178., 182., 177., 183., 181., 182., 181., 179., 174., 180.]),\n",
       " array([0. , 0.9, 1.8, 2.7, 3.6, 4.5, 5.4, 6.3, 7.2, 8.1, 9. ]),\n",
       " <BarContainer object of 10 artists>)"
      ]
     },
     "execution_count": 16,
     "metadata": {},
     "output_type": "execute_result"
    },
    {
     "data": {
      "image/png": "[encoded data removed]",
      "text/plain": [
       "<Figure size 432x288 with 1 Axes>"
      ]
     },
     "metadata": {
      "needs_background": "light"
     },
     "output_type": "display_data"
    }
   ],
   "source": [
    "plt.hist(y, width=0.5)"
   ]
  },
  {
   "cell_type": "code",
   "execution_count": 17,
   "id": "bba58b0e-6f0f-4981-9ba5-9e6c7c1db608",
   "metadata": {},
   "outputs": [
    {
     "data": {
      "text/plain": [
       "(array([142., 146., 142., 146., 145., 145., 145., 143., 139., 144.]),\n",
       " array([0. , 0.9, 1.8, 2.7, 3.6, 4.5, 5.4, 6.3, 7.2, 8.1, 9. ]),\n",
       " <BarContainer object of 10 artists>)"
      ]
     },
     "execution_count": 17,
     "metadata": {},
     "output_type": "execute_result"
    },
    {
     "data": {
      "image/png": "[encoded data removed]",
      "text/plain": [
       "<Figure size 432x288 with 1 Axes>"
      ]
     },
     "metadata": {
      "needs_background": "light"
     },
     "output_type": "display_data"
    }
   ],
   "source": [
    "plt.hist(y_train, width=0.5)"
   ]
  },
  {
   "cell_type": "code",
   "execution_count": 18,
   "id": "1306ad94-6261-43e9-acef-0e5b73f288cf",
   "metadata": {},
   "outputs": [
    {
     "data": {
      "text/plain": [
       "RandomForestClassifier(max_depth=5)"
      ]
     },
     "execution_count": 18,
     "metadata": {},
     "output_type": "execute_result"
    }
   ],
   "source": [
    "rf_classifier.fit(x_train, y_train)"
   ]
  },
  {
   "cell_type": "code",
   "execution_count": 19,
   "id": "461a6b69-ecd5-44b5-b7f7-923e6020d648",
   "metadata": {},
   "outputs": [
    {
     "data": {
      "text/plain": [
       "array([9])"
      ]
     },
     "execution_count": 19,
     "metadata": {},
     "output_type": "execute_result"
    }
   ],
   "source": [
    "rf_classifier.predict(x_train[[7]])"
   ]
  },
  {
   "cell_type": "code",
   "execution_count": 20,
   "id": "31d641c8-2015-4d73-9d7b-26216cb00c34",
   "metadata": {},
   "outputs": [
    {
     "data": {
      "text/plain": [
       "9"
      ]
     },
     "execution_count": 20,
     "metadata": {},
     "output_type": "execute_result"
    }
   ],
   "source": [
    "y_train[7]"
   ]
  },
  {
   "cell_type": "code",
   "execution_count": 21,
   "id": "c0776086-6266-4500-92d6-3dc5e65a99c0",
   "metadata": {},
   "outputs": [],
   "source": [
    "y_pred = rf_classifier.predict(x_test)"
   ]
  },
  {
   "cell_type": "code",
   "execution_count": 22,
   "id": "575a0be2-f757-4263-b7b8-f93044740ebb",
   "metadata": {},
   "outputs": [
    {
     "data": {
      "text/plain": [
       "array([[35,  0,  0,  0,  1,  0,  0,  0,  0,  0],\n",
       "       [ 0, 32,  0,  1,  0,  0,  1,  0,  0,  2],\n",
       "       [ 1,  0, 34,  0,  0,  0,  0,  0,  0,  0],\n",
       "       [ 0,  0,  0, 35,  0,  0,  0,  1,  0,  1],\n",
       "       [ 0,  1,  0,  0, 35,  0,  0,  0,  0,  0],\n",
       "       [ 0,  0,  0,  0,  0, 36,  0,  0,  0,  1],\n",
       "       [ 0,  1,  0,  0,  1,  0, 34,  0,  0,  0],\n",
       "       [ 0,  0,  0,  0,  0,  0,  0, 36,  0,  0],\n",
       "       [ 0,  3,  0,  0,  0,  0,  0,  3, 29,  0],\n",
       "       [ 0,  0,  0,  2,  1,  0,  0,  3,  1, 29]])"
      ]
     },
     "execution_count": 22,
     "metadata": {},
     "output_type": "execute_result"
    }
   ],
   "source": [
    "cm = sklearn.metrics.confusion_matrix(y_test, y_pred)\n",
    "cm"
   ]
  },
  {
   "cell_type": "markdown",
   "id": "e2846feb-0f46-4b8c-b64f-4026af9424ca",
   "metadata": {},
   "source": [
    "In contrast with binary classification, calculating precision and recall (and etc) for multi-class classification problems can be computed in slightly different ways depending on how one does averaging. \n",
    "\n",
    "A macro-average will compute the metric independently for each class and then take the average (hence treating all classes equally), whereas a micro-average will aggregate the contributions of all classes to compute the average metric. \n",
    "\n",
    "In a multi-class classification setup, micro-average is preferable if you suspect there might be class imbalance (i.e you may have many more examples of one class than of other classes)."
   ]
  },
  {
   "cell_type": "code",
   "execution_count": 23,
   "id": "e8f54ef5-2011-48b8-8ff3-d46ed5d60eb2",
   "metadata": {},
   "outputs": [
    {
     "name": "stdout",
     "output_type": "stream",
     "text": [
      "Accuracy: 93.06%\n",
      "Precision: 93.06%\n",
      "Recall: 93.06%\n"
     ]
    }
   ],
   "source": [
    "print(f\"Accuracy: {sklearn.metrics.accuracy_score(y_test, y_pred):.2%}\")\n",
    "print(f\"Precision: {sklearn.metrics.precision_score(y_test, y_pred, average='micro'):.2%}\")\n",
    "print(f\"Recall: {sklearn.metrics.recall_score(y_test, y_pred, average='micro'):.2%}\")"
   ]
  },
  {
   "cell_type": "code",
   "execution_count": 24,
   "id": "958d499b-6a50-4ceb-bd13-bbb610ff3297",
   "metadata": {},
   "outputs": [
    {
     "name": "stdout",
     "output_type": "stream",
     "text": [
      "Accuracy: 93.06%\n",
      "Precision: 93.33%\n",
      "Recall: 93.02%\n"
     ]
    }
   ],
   "source": [
    "print(f\"Accuracy: {sklearn.metrics.accuracy_score(y_test, y_pred):.2%}\")\n",
    "print(f\"Precision: {sklearn.metrics.precision_score(y_test, y_pred, average='macro'):.2%}\")\n",
    "print(f\"Recall: {sklearn.metrics.recall_score(y_test, y_pred, average='macro'):.2%}\")"
   ]
  },
  {
   "cell_type": "markdown",
   "id": "a4a78858-15da-4bfe-bc09-a8a1b444109b",
   "metadata": {},
   "source": [
    "## Logistic Regression"
   ]
  },
  {
   "cell_type": "code",
   "execution_count": 25,
   "id": "cb964029-aee4-4d0e-b9bb-cd7017cf59d5",
   "metadata": {},
   "outputs": [],
   "source": [
    "import sklearn.linear_model\n",
    "lr_classifier = sklearn.linear_model.LogisticRegression()"
   ]
  },
  {
   "cell_type": "code",
   "execution_count": 26,
   "id": "7dc8bca1-5d79-4b59-b65a-5a716b282fbe",
   "metadata": {},
   "outputs": [
    {
     "name": "stderr",
     "output_type": "stream",
     "text": [
      "/opt/conda/lib/python3.9/site-packages/sklearn/linear_model/_logistic.py:763: ConvergenceWarning: lbfgs failed to converge (status=1):\n",
      "STOP: TOTAL NO. of ITERATIONS REACHED LIMIT.\n",
      "\n",
      "Increase the number of iterations (max_iter) or scale the data as shown in:\n",
      "    https://scikit-learn.org/stable/modules/preprocessing.html\n",
      "Please also refer to the documentation for alternative solver options:\n",
      "    https://scikit-learn.org/stable/modules/linear_model.html#logistic-regression\n",
      "  n_iter_i = _check_optimize_result(\n"
     ]
    },
    {
     "data": {
      "text/plain": [
       "LogisticRegression()"
      ]
     },
     "execution_count": 26,
     "metadata": {},
     "output_type": "execute_result"
    }
   ],
   "source": [
    "lr_classifier.fit(x_train, y_train)"
   ]
  },
  {
   "cell_type": "markdown",
   "id": "0e8d52bf-9812-4bcf-9091-03b0a9fb67d9",
   "metadata": {},
   "source": [
    "It will not be uncommon for you to run into scenarios in which you encounter errors when trying to train models.\n",
    "\n",
    "In such cases, they can be fruitful opportunities to consult the documentation and learn more about various training options.\n",
    "\n",
    "Here, the error message gives us clues about potentially insightful documentation.\n",
    "\n",
    "To fast-forward, it will be useful here for Logistic Regression if we rescale our sample data from being integer values over [0:16] to being continuous values scaled to have a normal distribution of values -> the sklearn StandardScaler will rescale the features to have 0 mean and unit variance."
   ]
  },
  {
   "cell_type": "code",
   "execution_count": 27,
   "id": "b6e18309-0f4e-4db0-883b-8d620926a76d",
   "metadata": {},
   "outputs": [],
   "source": [
    "import sklearn.preprocessing"
   ]
  },
  {
   "cell_type": "code",
   "execution_count": 28,
   "id": "c50fcba6-7350-4d37-aa8b-77bd2b36d2b2",
   "metadata": {},
   "outputs": [],
   "source": [
    "scaler = sklearn.preprocessing.StandardScaler()"
   ]
  },
  {
   "cell_type": "code",
   "execution_count": 29,
   "id": "c4304d87-0b7d-44de-8afe-2b69fed14362",
   "metadata": {},
   "outputs": [],
   "source": [
    "x_scaled = scaler.fit_transform(x_train)"
   ]
  },
  {
   "cell_type": "code",
   "execution_count": 30,
   "id": "1807c2fd-a0a8-44a4-9e56-8b97acf7e31d",
   "metadata": {},
   "outputs": [
    {
     "data": {
      "text/plain": [
       "array([ 0.        , -0.33046224,  1.2378834 , -0.4274473 ,  0.02312659,\n",
       "        1.43014397,  2.8413024 , -0.12584318, -0.06103492, -0.62260929,\n",
       "        1.03165102,  1.00937442,  1.19380133,  1.26496458,  1.39978818,\n",
       "       -0.13432278, -0.03733267, -0.44168631,  1.05969889,  1.55558209,\n",
       "        1.44343302,  0.65987225, -0.55382175, -0.11862076, -0.02638899,\n",
       "       -0.46678045, -0.67658982, -1.14648383,  0.18482758,  1.26093986,\n",
       "       -0.62828779, -0.0528332 ,  0.        , -0.66752135, -1.05580576,\n",
       "       -1.45200086, -1.41676906,  1.24934814, -0.81772638,  0.        ,\n",
       "       -0.0659912 ,  0.47021104,  0.78570258, -1.1315037 , -0.74965266,\n",
       "        1.20145575, -0.80976799, -0.08215245, -0.03682402,  2.96197729,\n",
       "        1.32725001, -0.30755292,  0.67686924,  0.37015222, -0.76258772,\n",
       "       -0.20077038, -0.02638899, -0.29535143,  0.68696673,  0.42410598,\n",
       "       -0.57242595, -0.81973384, -0.50454776, -0.19360181])"
      ]
     },
     "execution_count": 30,
     "metadata": {},
     "output_type": "execute_result"
    }
   ],
   "source": [
    "x_scaled[0]"
   ]
  },
  {
   "cell_type": "markdown",
   "id": "f15deb6a-26b1-4556-8d50-ee52acdd813e",
   "metadata": {},
   "source": [
    "Here's the difference in image between original and rescaled."
   ]
  },
  {
   "cell_type": "code",
   "execution_count": 31,
   "id": "0c165e98-ddcd-400e-afc0-bf22af694041",
   "metadata": {},
   "outputs": [
    {
     "data": {
      "text/plain": [
       "<matplotlib.image.AxesImage at 0x7f1d9924be20>"
      ]
     },
     "execution_count": 31,
     "metadata": {},
     "output_type": "execute_result"
    },
    {
     "data": {
      "image/png": "[encoded data removed]",
      "text/plain": [
       "<Figure size 432x288 with 1 Axes>"
      ]
     },
     "metadata": {
      "needs_background": "light"
     },
     "output_type": "display_data"
    }
   ],
   "source": [
    "sample = x_train[7].reshape(8,8)\n",
    "plt.imshow(sample,cmap='binary')"
   ]
  },
  {
   "cell_type": "code",
   "execution_count": 32,
   "id": "4127af7a-4adf-4dc1-a12b-c0138bf78008",
   "metadata": {},
   "outputs": [
    {
     "data": {
      "text/plain": [
       "<matplotlib.image.AxesImage at 0x7f1d991b5c70>"
      ]
     },
     "execution_count": 32,
     "metadata": {},
     "output_type": "execute_result"
    },
    {
     "data": {
      "image/png": "[encoded data removed]",
      "text/plain": [
       "<Figure size 432x288 with 1 Axes>"
      ]
     },
     "metadata": {
      "needs_background": "light"
     },
     "output_type": "display_data"
    }
   ],
   "source": [
    "sample = x_scaled[7].reshape(8,8)\n",
    "plt.imshow(sample,cmap='binary')"
   ]
  },
  {
   "cell_type": "code",
   "execution_count": 33,
   "id": "ecd33ad7-9e57-4dd5-b60c-a584a3c83255",
   "metadata": {},
   "outputs": [
    {
     "data": {
      "image/png": "[encoded data removed]",
      "text/plain": [
       "<Figure size 432x288 with 100 Axes>"
      ]
     },
     "metadata": {
      "needs_background": "light"
     },
     "output_type": "display_data"
    }
   ],
   "source": [
    "for i in range(100):\n",
    "    plt.subplot(10,10,i+1)\n",
    "    sample = x_scaled[i].reshape(8,8)\n",
    "    plt.imshow(sample, cmap='binary')"
   ]
  },
  {
   "cell_type": "code",
   "execution_count": 34,
   "id": "68349695-2b06-47ba-8cb8-ca798cb288d0",
   "metadata": {},
   "outputs": [
    {
     "data": {
      "text/plain": [
       "LogisticRegression()"
      ]
     },
     "execution_count": 34,
     "metadata": {},
     "output_type": "execute_result"
    }
   ],
   "source": [
    "lr_classifier.fit(x_scaled, y_train)"
   ]
  },
  {
   "cell_type": "code",
   "execution_count": 35,
   "id": "502a4cb5-0e73-44a7-bd19-528d33af1865",
   "metadata": {},
   "outputs": [
    {
     "data": {
      "text/plain": [
       "array([9])"
      ]
     },
     "execution_count": 35,
     "metadata": {},
     "output_type": "execute_result"
    }
   ],
   "source": [
    "lr_classifier.predict(x_scaled[[7]])"
   ]
  },
  {
   "cell_type": "code",
   "execution_count": 36,
   "id": "f5ee8e4d-d7de-48af-bf95-6b038921c3d4",
   "metadata": {},
   "outputs": [
    {
     "data": {
      "text/plain": [
       "9"
      ]
     },
     "execution_count": 36,
     "metadata": {},
     "output_type": "execute_result"
    }
   ],
   "source": [
    "y_train[7]"
   ]
  },
  {
   "cell_type": "markdown",
   "id": "1a283fc6-521b-424a-95a8-3ae1587596c9",
   "metadata": {},
   "source": [
    "Our classifier was trained on scaled data, so we must scale any new data similarly (though we only need to do the transform now, not the fit.)"
   ]
  },
  {
   "cell_type": "code",
   "execution_count": 37,
   "id": "3f963882-735f-4667-b25a-95dc292c0bed",
   "metadata": {},
   "outputs": [],
   "source": [
    "x_test_scaled = scaler.transform(x_test)"
   ]
  },
  {
   "cell_type": "code",
   "execution_count": 38,
   "id": "e7bb8fca-4de4-4b3d-898b-b06e53cbe97b",
   "metadata": {},
   "outputs": [],
   "source": [
    "y_pred = lr_classifier.predict(x_test_scaled)"
   ]
  },
  {
   "cell_type": "code",
   "execution_count": 39,
   "id": "52f6f814-d655-4855-8e8c-7f7039ed4158",
   "metadata": {},
   "outputs": [
    {
     "data": {
      "text/plain": [
       "array([[36,  0,  0,  0,  0,  0,  0,  0,  0,  0],\n",
       "       [ 0, 32,  0,  1,  1,  0,  0,  0,  2,  0],\n",
       "       [ 0,  0, 35,  0,  0,  0,  0,  0,  0,  0],\n",
       "       [ 0,  0,  0, 37,  0,  0,  0,  0,  0,  0],\n",
       "       [ 0,  0,  0,  0, 36,  0,  0,  0,  0,  0],\n",
       "       [ 0,  0,  0,  0,  0, 37,  0,  0,  0,  0],\n",
       "       [ 0,  0,  0,  0,  0,  0, 35,  0,  1,  0],\n",
       "       [ 0,  0,  0,  0,  1,  0,  0, 35,  0,  0],\n",
       "       [ 0,  3,  0,  0,  0,  0,  0,  0, 32,  0],\n",
       "       [ 0,  0,  0,  0,  0,  0,  0,  0,  1, 35]])"
      ]
     },
     "execution_count": 39,
     "metadata": {},
     "output_type": "execute_result"
    }
   ],
   "source": [
    "cm = sklearn.metrics.confusion_matrix(y_test, y_pred)\n",
    "cm"
   ]
  },
  {
   "cell_type": "code",
   "execution_count": 40,
   "id": "fb739227-2db8-4f30-8e0a-adc16139251f",
   "metadata": {},
   "outputs": [
    {
     "name": "stdout",
     "output_type": "stream",
     "text": [
      "Accuracy: 97.22%\n",
      "Precision: 97.22%\n",
      "Recall: 97.22%\n"
     ]
    }
   ],
   "source": [
    "print(f\"Accuracy: {sklearn.metrics.accuracy_score(y_test, y_pred):.2%}\")\n",
    "print(f\"Precision: {sklearn.metrics.precision_score(y_test, y_pred, average='micro'):.2%}\")\n",
    "print(f\"Recall: {sklearn.metrics.recall_score(y_test, y_pred, average='micro'):.2%}\")"
   ]
  },
  {
   "cell_type": "code",
   "execution_count": 41,
   "id": "1176f589-3cc7-4a8e-b690-a44401372a68",
   "metadata": {},
   "outputs": [
    {
     "name": "stdout",
     "output_type": "stream",
     "text": [
      "Accuracy: 97.22%\n",
      "Precision: 97.24%\n",
      "Recall: 97.20%\n"
     ]
    }
   ],
   "source": [
    "print(f\"Accuracy: {sklearn.metrics.accuracy_score(y_test, y_pred):.2%}\")\n",
    "print(f\"Precision: {sklearn.metrics.precision_score(y_test, y_pred, average='macro'):.2%}\")\n",
    "print(f\"Recall: {sklearn.metrics.recall_score(y_test, y_pred, average='macro'):.2%}\")"
   ]
  },
  {
   "cell_type": "markdown",
   "id": "ec64a6a0-480f-4bd2-9e77-4fbe300182b4",
   "metadata": {},
   "source": [
    "## Naive Bayes"
   ]
  },
  {
   "cell_type": "code",
   "execution_count": 42,
   "id": "fcf6198b-91f3-4092-b8e8-1084754965e9",
   "metadata": {},
   "outputs": [],
   "source": [
    "import sklearn.naive_bayes\n",
    "nb_classifier = sklearn.naive_bayes.MultinomialNB()"
   ]
  },
  {
   "cell_type": "code",
   "execution_count": 43,
   "id": "1df7b837-5e7d-4def-b524-c96c506c302a",
   "metadata": {},
   "outputs": [
    {
     "data": {
      "text/plain": [
       "MultinomialNB()"
      ]
     },
     "execution_count": 43,
     "metadata": {},
     "output_type": "execute_result"
    }
   ],
   "source": [
    "nb_classifier.fit(x_train, y_train)"
   ]
  },
  {
   "cell_type": "code",
   "execution_count": 44,
   "id": "2aa595d8-9a2c-41d6-bffd-71506c2bbf91",
   "metadata": {},
   "outputs": [],
   "source": [
    "y_pred = nb_classifier.predict(x_test)"
   ]
  },
  {
   "cell_type": "code",
   "execution_count": 45,
   "id": "0186daa3-0b0b-472b-9e56-b454a23ffe02",
   "metadata": {},
   "outputs": [
    {
     "data": {
      "text/plain": [
       "array([[35,  0,  0,  0,  1,  0,  0,  0,  0,  0],\n",
       "       [ 0, 23,  5,  0,  0,  1,  1,  0,  2,  4],\n",
       "       [ 0,  1, 33,  0,  0,  0,  0,  0,  1,  0],\n",
       "       [ 0,  0,  1, 36,  0,  0,  0,  0,  0,  0],\n",
       "       [ 0,  0,  0,  0, 36,  0,  0,  0,  0,  0],\n",
       "       [ 0,  0,  0,  0,  1, 31,  0,  0,  0,  5],\n",
       "       [ 0,  1,  0,  0,  0,  0, 34,  0,  1,  0],\n",
       "       [ 0,  0,  0,  0,  0,  0,  0, 36,  0,  0],\n",
       "       [ 0,  6,  0,  0,  0,  0,  0,  1, 28,  0],\n",
       "       [ 0,  1,  0,  1,  0,  0,  0,  3,  3, 28]])"
      ]
     },
     "execution_count": 45,
     "metadata": {},
     "output_type": "execute_result"
    }
   ],
   "source": [
    "cm = sklearn.metrics.confusion_matrix(y_test, y_pred)\n",
    "cm"
   ]
  },
  {
   "cell_type": "code",
   "execution_count": 46,
   "id": "5e84f840-c900-49ab-88de-b813db5b9f2a",
   "metadata": {},
   "outputs": [
    {
     "name": "stdout",
     "output_type": "stream",
     "text": [
      "Accuracy: 88.89%\n",
      "Precision: 88.89%\n",
      "Recall: 88.89%\n"
     ]
    }
   ],
   "source": [
    "print(f\"Accuracy: {sklearn.metrics.accuracy_score(y_test, y_pred):.2%}\")\n",
    "print(f\"Precision: {sklearn.metrics.precision_score(y_test, y_pred, average='micro'):.2%}\")\n",
    "print(f\"Recall: {sklearn.metrics.recall_score(y_test, y_pred, average='micro'):.2%}\")"
   ]
  },
  {
   "cell_type": "code",
   "execution_count": 47,
   "id": "bca13900-2ea5-4816-8286-9cdd9da307a1",
   "metadata": {},
   "outputs": [
    {
     "name": "stdout",
     "output_type": "stream",
     "text": [
      "Accuracy: 88.89%\n",
      "Precision: 88.82%\n",
      "Recall: 88.87%\n"
     ]
    }
   ],
   "source": [
    "print(f\"Accuracy: {sklearn.metrics.accuracy_score(y_test, y_pred):.2%}\")\n",
    "print(f\"Precision: {sklearn.metrics.precision_score(y_test, y_pred, average='macro'):.2%}\")\n",
    "print(f\"Recall: {sklearn.metrics.recall_score(y_test, y_pred, average='macro'):.2%}\")"
   ]
  },
  {
   "cell_type": "markdown",
   "id": "8f63d964-be36-4266-a91c-59fd6c5e2f75",
   "metadata": {},
   "source": [
    "We could try doing the scaling here too to see if that improves the result."
   ]
  },
  {
   "cell_type": "code",
   "execution_count": 48,
   "id": "4adcd67d-6cc0-460b-a307-2d145e894d98",
   "metadata": {},
   "outputs": [],
   "source": [
    "scaler = sklearn.preprocessing.StandardScaler()"
   ]
  },
  {
   "cell_type": "code",
   "execution_count": 49,
   "id": "2470680a-e87f-49f2-9e1c-81ef057dbdba",
   "metadata": {},
   "outputs": [],
   "source": [
    "x_scaled = sklearn.preprocessing.StandardScaler().fit_transform(x_train)"
   ]
  },
  {
   "cell_type": "code",
   "execution_count": 50,
   "id": "7df1a396-b7c4-48cf-af50-cef16599a25e",
   "metadata": {},
   "outputs": [
    {
     "ename": "ValueError",
     "evalue": "Negative values in data passed to MultinomialNB (input X)",
     "output_type": "error",
     "traceback": [
      "\u001b[0;31m---------------------------------------------------------------------------\u001b[0m",
      "\u001b[0;31mValueError\u001b[0m                                Traceback (most recent call last)",
      "\u001b[0;32m/tmp/ipykernel_259/1561435744.py\u001b[0m in \u001b[0;36m<module>\u001b[0;34m\u001b[0m\n\u001b[0;32m----> 1\u001b[0;31m \u001b[0mnb_classifier\u001b[0m\u001b[0;34m.\u001b[0m\u001b[0mfit\u001b[0m\u001b[0;34m(\u001b[0m\u001b[0mx_scaled\u001b[0m\u001b[0;34m,\u001b[0m \u001b[0my_train\u001b[0m\u001b[0;34m)\u001b[0m\u001b[0;34m\u001b[0m\u001b[0;34m\u001b[0m\u001b[0m\n\u001b[0m",
      "\u001b[0;32m/opt/conda/lib/python3.9/site-packages/sklearn/naive_bayes.py\u001b[0m in \u001b[0;36mfit\u001b[0;34m(self, X, y, sample_weight)\u001b[0m\n\u001b[1;32m    636\u001b[0m \u001b[0;34m\u001b[0m\u001b[0m\n\u001b[1;32m    637\u001b[0m         \u001b[0mself\u001b[0m\u001b[0;34m.\u001b[0m\u001b[0m_init_counters\u001b[0m\u001b[0;34m(\u001b[0m\u001b[0mn_effective_classes\u001b[0m\u001b[0;34m,\u001b[0m \u001b[0mn_features\u001b[0m\u001b[0;34m)\u001b[0m\u001b[0;34m\u001b[0m\u001b[0;34m\u001b[0m\u001b[0m\n\u001b[0;32m--> 638\u001b[0;31m         \u001b[0mself\u001b[0m\u001b[0;34m.\u001b[0m\u001b[0m_count\u001b[0m\u001b[0;34m(\u001b[0m\u001b[0mX\u001b[0m\u001b[0;34m,\u001b[0m \u001b[0mY\u001b[0m\u001b[0;34m)\u001b[0m\u001b[0;34m\u001b[0m\u001b[0;34m\u001b[0m\u001b[0m\n\u001b[0m\u001b[1;32m    639\u001b[0m         \u001b[0malpha\u001b[0m \u001b[0;34m=\u001b[0m \u001b[0mself\u001b[0m\u001b[0;34m.\u001b[0m\u001b[0m_check_alpha\u001b[0m\u001b[0;34m(\u001b[0m\u001b[0;34m)\u001b[0m\u001b[0;34m\u001b[0m\u001b[0;34m\u001b[0m\u001b[0m\n\u001b[1;32m    640\u001b[0m         \u001b[0mself\u001b[0m\u001b[0;34m.\u001b[0m\u001b[0m_update_feature_log_prob\u001b[0m\u001b[0;34m(\u001b[0m\u001b[0malpha\u001b[0m\u001b[0;34m)\u001b[0m\u001b[0;34m\u001b[0m\u001b[0;34m\u001b[0m\u001b[0m\n",
      "\u001b[0;32m/opt/conda/lib/python3.9/site-packages/sklearn/naive_bayes.py\u001b[0m in \u001b[0;36m_count\u001b[0;34m(self, X, Y)\u001b[0m\n\u001b[1;32m    769\u001b[0m     \u001b[0;32mdef\u001b[0m \u001b[0m_count\u001b[0m\u001b[0;34m(\u001b[0m\u001b[0mself\u001b[0m\u001b[0;34m,\u001b[0m \u001b[0mX\u001b[0m\u001b[0;34m,\u001b[0m \u001b[0mY\u001b[0m\u001b[0;34m)\u001b[0m\u001b[0;34m:\u001b[0m\u001b[0;34m\u001b[0m\u001b[0;34m\u001b[0m\u001b[0m\n\u001b[1;32m    770\u001b[0m         \u001b[0;34m\"\"\"Count and smooth feature occurrences.\"\"\"\u001b[0m\u001b[0;34m\u001b[0m\u001b[0;34m\u001b[0m\u001b[0m\n\u001b[0;32m--> 771\u001b[0;31m         \u001b[0mcheck_non_negative\u001b[0m\u001b[0;34m(\u001b[0m\u001b[0mX\u001b[0m\u001b[0;34m,\u001b[0m \u001b[0;34m\"MultinomialNB (input X)\"\u001b[0m\u001b[0;34m)\u001b[0m\u001b[0;34m\u001b[0m\u001b[0;34m\u001b[0m\u001b[0m\n\u001b[0m\u001b[1;32m    772\u001b[0m         \u001b[0mself\u001b[0m\u001b[0;34m.\u001b[0m\u001b[0mfeature_count_\u001b[0m \u001b[0;34m+=\u001b[0m \u001b[0msafe_sparse_dot\u001b[0m\u001b[0;34m(\u001b[0m\u001b[0mY\u001b[0m\u001b[0;34m.\u001b[0m\u001b[0mT\u001b[0m\u001b[0;34m,\u001b[0m \u001b[0mX\u001b[0m\u001b[0;34m)\u001b[0m\u001b[0;34m\u001b[0m\u001b[0;34m\u001b[0m\u001b[0m\n\u001b[1;32m    773\u001b[0m         \u001b[0mself\u001b[0m\u001b[0;34m.\u001b[0m\u001b[0mclass_count_\u001b[0m \u001b[0;34m+=\u001b[0m \u001b[0mY\u001b[0m\u001b[0;34m.\u001b[0m\u001b[0msum\u001b[0m\u001b[0;34m(\u001b[0m\u001b[0maxis\u001b[0m\u001b[0;34m=\u001b[0m\u001b[0;36m0\u001b[0m\u001b[0;34m)\u001b[0m\u001b[0;34m\u001b[0m\u001b[0;34m\u001b[0m\u001b[0m\n",
      "\u001b[0;32m/opt/conda/lib/python3.9/site-packages/sklearn/utils/validation.py\u001b[0m in \u001b[0;36mcheck_non_negative\u001b[0;34m(X, whom)\u001b[0m\n\u001b[1;32m   1123\u001b[0m \u001b[0;34m\u001b[0m\u001b[0m\n\u001b[1;32m   1124\u001b[0m     \u001b[0;32mif\u001b[0m \u001b[0mX_min\u001b[0m \u001b[0;34m<\u001b[0m \u001b[0;36m0\u001b[0m\u001b[0;34m:\u001b[0m\u001b[0;34m\u001b[0m\u001b[0;34m\u001b[0m\u001b[0m\n\u001b[0;32m-> 1125\u001b[0;31m         \u001b[0;32mraise\u001b[0m \u001b[0mValueError\u001b[0m\u001b[0;34m(\u001b[0m\u001b[0;34m\"Negative values in data passed to %s\"\u001b[0m \u001b[0;34m%\u001b[0m \u001b[0mwhom\u001b[0m\u001b[0;34m)\u001b[0m\u001b[0;34m\u001b[0m\u001b[0;34m\u001b[0m\u001b[0m\n\u001b[0m\u001b[1;32m   1126\u001b[0m \u001b[0;34m\u001b[0m\u001b[0m\n\u001b[1;32m   1127\u001b[0m \u001b[0;34m\u001b[0m\u001b[0m\n",
      "\u001b[0;31mValueError\u001b[0m: Negative values in data passed to MultinomialNB (input X)"
     ]
    }
   ],
   "source": [
    "nb_classifier.fit(x_scaled, y_train)"
   ]
  },
  {
   "cell_type": "markdown",
   "id": "c99b384e-7741-4c15-b448-d6d1621675da",
   "metadata": {},
   "source": [
    "For MultinomialNB, we actually can't use negative values in the training data.  A multinomial distribution is appropriate for discrete positive values (and actually indicates that the original scale is likely best).\n",
    "\n",
    "If we use MinMaxScaler, though, we'll get a similar standardization of the scaling, but now on the range of [0,1]."
   ]
  },
  {
   "cell_type": "code",
   "execution_count": 51,
   "id": "4a8f9c47-6c10-4438-9ed1-147e70708aa7",
   "metadata": {},
   "outputs": [],
   "source": [
    "scaler = sklearn.preprocessing.MinMaxScaler()\n",
    "x_train_scaled = scaler.fit_transform(x_train)\n",
    "x_test_scaled = scaler.transform(x_test)"
   ]
  },
  {
   "cell_type": "code",
   "execution_count": 52,
   "id": "8f816619-8388-448d-8ac4-5110564fd60f",
   "metadata": {},
   "outputs": [
    {
     "data": {
      "text/plain": [
       "MultinomialNB()"
      ]
     },
     "execution_count": 52,
     "metadata": {},
     "output_type": "execute_result"
    }
   ],
   "source": [
    "nb_classifier.fit(x_train_scaled, y_train)"
   ]
  },
  {
   "cell_type": "code",
   "execution_count": 53,
   "id": "4d02d75a-9568-48f6-a02d-d53d0901be5c",
   "metadata": {},
   "outputs": [],
   "source": [
    "y_pred = nb_classifier.predict(x_test_scaled)"
   ]
  },
  {
   "cell_type": "code",
   "execution_count": 54,
   "id": "992460aa-5280-44e6-b06f-3c8766f6ed6a",
   "metadata": {},
   "outputs": [
    {
     "data": {
      "text/plain": [
       "array([[35,  0,  0,  0,  1,  0,  0,  0,  0,  0],\n",
       "       [ 0, 24,  5,  0,  0,  1,  1,  0,  2,  3],\n",
       "       [ 1,  1, 32,  0,  0,  0,  0,  0,  1,  0],\n",
       "       [ 0,  0,  1, 36,  0,  0,  0,  0,  0,  0],\n",
       "       [ 0,  0,  0,  0, 36,  0,  0,  0,  0,  0],\n",
       "       [ 0,  0,  0,  0,  1, 31,  0,  0,  0,  5],\n",
       "       [ 0,  2,  0,  0,  0,  0, 34,  0,  0,  0],\n",
       "       [ 0,  0,  0,  0,  0,  0,  0, 36,  0,  0],\n",
       "       [ 0,  6,  0,  0,  0,  0,  0,  1, 28,  0],\n",
       "       [ 0,  1,  0,  1,  0,  0,  0,  3,  3, 28]])"
      ]
     },
     "execution_count": 54,
     "metadata": {},
     "output_type": "execute_result"
    }
   ],
   "source": [
    "cm = sklearn.metrics.confusion_matrix(y_test, y_pred)\n",
    "cm"
   ]
  },
  {
   "cell_type": "code",
   "execution_count": 55,
   "id": "1bb32d17-435a-43c5-9812-5f5ee6fcaf78",
   "metadata": {},
   "outputs": [
    {
     "name": "stdout",
     "output_type": "stream",
     "text": [
      "Accuracy: 88.89%\n",
      "Precision: 88.89%\n",
      "Recall: 88.89%\n"
     ]
    }
   ],
   "source": [
    "print(f\"Accuracy: {sklearn.metrics.accuracy_score(y_test, y_pred):.2%}\")\n",
    "print(f\"Precision: {sklearn.metrics.precision_score(y_test, y_pred, average='micro'):.2%}\")\n",
    "print(f\"Recall: {sklearn.metrics.recall_score(y_test, y_pred, average='micro'):.2%}\")"
   ]
  },
  {
   "cell_type": "code",
   "execution_count": 56,
   "id": "5ec40b7b-17ec-4d51-a38b-77c8f8031ab6",
   "metadata": {},
   "outputs": [
    {
     "name": "stdout",
     "output_type": "stream",
     "text": [
      "Accuracy: 88.89%\n",
      "Precision: 88.82%\n",
      "Recall: 88.86%\n"
     ]
    }
   ],
   "source": [
    "print(f\"Accuracy: {sklearn.metrics.accuracy_score(y_test, y_pred):.2%}\")\n",
    "print(f\"Precision: {sklearn.metrics.precision_score(y_test, y_pred, average='macro'):.2%}\")\n",
    "print(f\"Recall: {sklearn.metrics.recall_score(y_test, y_pred, average='macro'):.2%}\")"
   ]
  },
  {
   "cell_type": "markdown",
   "id": "ce9eed26-91bc-4875-ab41-e6d13d25fc88",
   "metadata": {},
   "source": [
    "## Extra section: Binary Classification and the Precision/Recall Trade-Off"
   ]
  },
  {
   "cell_type": "markdown",
   "id": "c84e60cc-9a89-4451-a6f6-5fc9c5b943a3",
   "metadata": {},
   "source": [
    "In classification there is a trade-off between optimizing precision and optimizing recall.\n",
    "\n",
    "The following will allow you to quantify and visualize that trade-off, as well as make plots of the ROC curves (Receiver Operating Characteristic).\n",
    "\n",
    "ROC is useful for binary classification, when you have a strict population of false-negatives, true-positives, and etc.  Precision and recall are also more easily conceptualized in binary classification, when there is no ambiguity about handling multi-class classification.  Therefore, the below does classification for the classes Fives and Not-Fives.  (You can easily check for other numbers too by changing the 5 to, say, 9)."
   ]
  },
  {
   "cell_type": "code",
   "execution_count": null,
   "id": "f2ff80ff-3f56-4b5d-8f21-c33fbcee365f",
   "metadata": {},
   "outputs": [],
   "source": [
    "y_five = (y == 5)"
   ]
  },
  {
   "cell_type": "code",
   "execution_count": null,
   "id": "0d46bd54-eb81-4d77-9974-dad2dae7c4b4",
   "metadata": {},
   "outputs": [],
   "source": [
    "y_five"
   ]
  },
  {
   "cell_type": "code",
   "execution_count": null,
   "id": "d534e3c4-60f8-4ab2-be74-1e3f41e9af37",
   "metadata": {},
   "outputs": [],
   "source": [
    "x_train, x_test, y_train, y_test = sklearn.model_selection.train_test_split(\n",
    "        x, y_five, test_size=0.2, random_state=42, stratify=y_five)"
   ]
  },
  {
   "cell_type": "code",
   "execution_count": null,
   "id": "7cbd587c-0865-4665-9244-c86553f96ce4",
   "metadata": {},
   "outputs": [],
   "source": [
    "import numpy as np"
   ]
  },
  {
   "cell_type": "code",
   "execution_count": null,
   "id": "be804f77-1531-4ef1-b9bb-475284c98728",
   "metadata": {},
   "outputs": [],
   "source": [
    "np.sum(y_five) / y_five.shape"
   ]
  },
  {
   "cell_type": "code",
   "execution_count": null,
   "id": "aa932042-cc6e-45ac-9ef7-c8426532c097",
   "metadata": {},
   "outputs": [],
   "source": [
    "np.sum(y_test) / y_test.shape"
   ]
  },
  {
   "cell_type": "code",
   "execution_count": null,
   "id": "69b76dab-8e24-4e76-990e-cfc988f19436",
   "metadata": {},
   "outputs": [],
   "source": [
    "np.sum(y_train) / y_train.shape"
   ]
  },
  {
   "cell_type": "code",
   "execution_count": null,
   "id": "b09e7967-8ce3-4875-890d-fa9505ef0da3",
   "metadata": {},
   "outputs": [],
   "source": [
    "# Random Forest\n",
    "rf_classifier = sklearn.ensemble.RandomForestClassifier()\n",
    "rf_classifier.fit(x_train, y_train)\n",
    "rf_y_pred = rf_classifier.predict(x_test)\n",
    "print(f\"Accuracy: {sklearn.metrics.accuracy_score(y_test, rf_y_pred):.2%}\")\n",
    "print(f\"RF Precision: {sklearn.metrics.precision_score(y_test, rf_y_pred):.2%}\")\n",
    "print(f\"RF Recall: {sklearn.metrics.recall_score(y_test, rf_y_pred):.2%}\")\n",
    "cm = sklearn.metrics.confusion_matrix(y_test, rf_y_pred)\n",
    "print(cm)\n",
    "\n",
    "# Logistic Regression\n",
    "lr_classifier = sklearn.linear_model.LogisticRegression()\n",
    "x_train_scaled = sklearn.preprocessing.StandardScaler().fit_transform(x_train)\n",
    "x_test_scaled = sklearn.preprocessing.StandardScaler().fit_transform(x_test)\n",
    "lr_classifier.fit(x_train_scaled, y_train)\n",
    "lr_y_pred = lr_classifier.predict(x_test_scaled)\n",
    "print(f\"Accuracy: {sklearn.metrics.accuracy_score(y_test, lr_y_pred):.2%}\")\n",
    "print(f\"LR Precision: {sklearn.metrics.precision_score(y_test, lr_y_pred):.2%}\")\n",
    "print(f\"LR Recall: {sklearn.metrics.recall_score(y_test, lr_y_pred):.2%}\")\n",
    "cm = sklearn.metrics.confusion_matrix(y_test, lr_y_pred)\n",
    "print(cm)\n",
    "\n",
    "# Multinomial Naive Bayes\n",
    "nb_classifier = sklearn.naive_bayes.MultinomialNB()\n",
    "nb_classifier.fit(x_train, y_train)\n",
    "nb_y_pred = nb_classifier.predict(x_test)\n",
    "print(f\"Accuracy: {sklearn.metrics.accuracy_score(y_test, nb_y_pred):.2%}\")\n",
    "print(f\"NB Precision: {sklearn.metrics.precision_score(y_test, nb_y_pred):.2%}\")\n",
    "print(f\"NB Recall: {sklearn.metrics.recall_score(y_test, nb_y_pred):.2%}\")\n",
    "cm = sklearn.metrics.confusion_matrix(y_test, nb_y_pred)\n",
    "print(cm)"
   ]
  },
  {
   "cell_type": "code",
   "execution_count": null,
   "id": "3d4d890b-7026-4706-aa84-2778beea3a41",
   "metadata": {},
   "outputs": [],
   "source": [
    "# rf_y_pred_train = rf_classifier.predict_proba(x_train)\n",
    "# lr_y_pred_train = lr_classifier.predict_proba(x_train_scaled)\n",
    "# nb_y_pred_train = nb_classifier.predict_proba(x_train)\n",
    "\n",
    "# rf_falsePositiveRate, rf_truePositiveRate, rf_thresholds = sklearn.metrics.roc_curve(y_train, rf_y_pred_train[:,1])\n",
    "# lr_falsePositiveRate, lr_truePositiveRate, lr_thresholds = sklearn.metrics.roc_curve(y_train, lr_y_pred_train[:,1])\n",
    "# nb_falsePositiveRate, nb_truePositiveRate, nb_thresholds = sklearn.metrics.roc_curve(y_train, nb_y_pred_train[:,1])"
   ]
  },
  {
   "cell_type": "code",
   "execution_count": null,
   "id": "7ca43ed4-b797-48eb-bc84-2a8e8416e972",
   "metadata": {},
   "outputs": [],
   "source": [
    "rf_y_scores = sklearn.model_selection.cross_val_predict(rf_classifier, x_train, y_train, cv=3,\n",
    "                             method=\"predict_proba\")\n",
    "lr_y_scores = sklearn.model_selection.cross_val_predict(lr_classifier, x_train_scaled, y_train, cv=3,\n",
    "                             method=\"predict_proba\")\n",
    "nb_y_scores = sklearn.model_selection.cross_val_predict(nb_classifier, x_train, y_train, cv=3,\n",
    "                             method=\"predict_proba\")\n",
    "\n",
    "rf_falsePositiveRate, rf_truePositiveRate, rf_thresholds = sklearn.metrics.roc_curve(y_train, rf_y_scores[:,1])\n",
    "lr_falsePositiveRate, lr_truePositiveRate, lr_thresholds = sklearn.metrics.roc_curve(y_train, lr_y_scores[:,1])\n",
    "nb_falsePositiveRate, nb_truePositiveRate, nb_thresholds = sklearn.metrics.roc_curve(y_train, nb_y_scores[:,1])"
   ]
  },
  {
   "cell_type": "code",
   "execution_count": null,
   "id": "7902dff3-c947-4eb0-ad8c-e6e1100b5b42",
   "metadata": {},
   "outputs": [],
   "source": [
    "plt.figure(figsize=(6, 5))  # extra code – not needed, just formatting\n",
    "plt.plot(rf_falsePositiveRate, rf_truePositiveRate, linewidth=2, color='black', label=\"RF ROC curve\")\n",
    "plt.plot(lr_falsePositiveRate, lr_truePositiveRate, linewidth=2, color='blue', label=\"LR ROC curve\")\n",
    "plt.plot(nb_falsePositiveRate, nb_truePositiveRate, linewidth=2, color='green', label=\"NB ROC curve\")\n",
    "plt.plot([0, 1], [0, 1], 'k:', label=\"Random classifier's ROC curve\")\n",
    "plt.legend()\n",
    "plt.show()"
   ]
  },
  {
   "cell_type": "code",
   "execution_count": null,
   "id": "ca8b0c9c-2dd4-4713-84e1-748958d2b389",
   "metadata": {},
   "outputs": [],
   "source": [
    "# rf_y_pred_train = rf_classifier.predict_proba(x_train)\n",
    "# rf_precisions, rf_recalls, rf_thresholds = sklearn.metrics.precision_recall_curve(y_train, rf_y_pred_train[:,1])\n",
    "\n",
    "# lr_y_pred_train = lr_classifier.predict_proba(x_train_scaled)\n",
    "# lr_precisions, lr_recalls, lr_thresholds = sklearn.metrics.precision_recall_curve(y_train, lr_y_pred_train[:,1])\n",
    "\n",
    "# nb_y_pred_train = nb_classifier.predict_proba(x_train)\n",
    "# nb_precisions, nb_recalls, nb_thresholds = sklearn.metrics.precision_recall_curve(y_train, nb_y_pred_train[:,1])"
   ]
  },
  {
   "cell_type": "code",
   "execution_count": null,
   "id": "def6d1fc-201d-4542-a36f-c9c16f3188a9",
   "metadata": {},
   "outputs": [],
   "source": [
    "rf_precisions, rf_recalls, rf_thresholds = sklearn.metrics.precision_recall_curve(y_train, rf_y_scores[:,1])\n",
    "\n",
    "lr_precisions, lr_recalls, lr_thresholds = sklearn.metrics.precision_recall_curve(y_train, lr_y_scores[:,1])\n",
    "\n",
    "nb_precisions, nb_recalls, nb_thresholds = sklearn.metrics.precision_recall_curve(y_train, nb_y_scores[:,1])"
   ]
  },
  {
   "cell_type": "code",
   "execution_count": null,
   "id": "6dca8fd6-d88e-4cad-8305-b433fe9306ec",
   "metadata": {},
   "outputs": [],
   "source": [
    "plt.figure(figsize=(8, 4))\n",
    "plt.plot(rf_thresholds, rf_precisions[:-1], \"b--\", label=\"RF Precision\", linewidth=2)\n",
    "plt.plot(rf_thresholds, rf_recalls[:-1], \"g-\", label=\"RF Recall\", linewidth=2)\n",
    "plt.axis([0, 1, 0, 1.1])\n",
    "plt.xlabel(\"Threshold\")\n",
    "plt.legend()\n",
    "\n",
    "plt.figure(figsize=(8, 4))\n",
    "plt.plot(lr_thresholds, lr_precisions[:-1], \"b--\", label=\"LR Precision\", linewidth=2)\n",
    "plt.plot(lr_thresholds, lr_recalls[:-1], \"g-\", label=\"LR Recall\", linewidth=2)\n",
    "plt.axis([0, 1, 0, 1.1])\n",
    "plt.xlabel(\"Threshold\")\n",
    "plt.legend()\n",
    "\n",
    "plt.figure(figsize=(8, 4))\n",
    "plt.plot(nb_thresholds, nb_precisions[:-1], \"b--\", label=\"NB Precision\", linewidth=2)\n",
    "plt.plot(nb_thresholds, nb_recalls[:-1], \"g-\", label=\"NB Recall\", linewidth=2)\n",
    "plt.axis([0, 1, 0, 1.1])\n",
    "plt.xlabel(\"Threshold\")\n",
    "plt.legend()\n",
    "\n",
    "plt.show()"
   ]
  }
 ],
 "metadata": {
  "kernelspec": {
   "display_name": "Python 3 (ipykernel)",
   "language": "python",
   "name": "python3"
  },
  "language_info": {
   "codemirror_mode": {
    "name": "ipython",
    "version": 3
   },
   "file_extension": ".py",
   "mimetype": "text/x-python",
   "name": "python",
   "nbconvert_exporter": "python",
   "pygments_lexer": "ipython3",
   "version": "3.9.6"
  }
 },
 "nbformat": 4,
 "nbformat_minor": 5
}
