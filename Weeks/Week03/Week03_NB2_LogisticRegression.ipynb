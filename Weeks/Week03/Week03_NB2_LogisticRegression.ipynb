{
  "cells": [
    {
      "cell_type": "markdown",
      "id": "1d5c75b1-6b15-49c2-869b-6af409ef317e",
      "metadata": {},
      "source": "# Classification based on Logistic Regression"
    },
    {
      "cell_type": "code",
      "execution_count": null,
      "id": "201407bc-3ed1-4b4f-969f-4dd64633e11f",
      "metadata": {
        "trusted": true
      },
      "outputs": [],
      "source": "import numpy as np\nimport matplotlib.pyplot as plt\nimport pandas as pd"
    },
    {
      "cell_type": "code",
      "execution_count": null,
      "id": "ad106b88-e0d1-4070-a9d0-929f3b6f01d2",
      "metadata": {
        "trusted": true
      },
      "outputs": [],
      "source": "data = pd.read_csv('https://raw.githubusercontent.com/benjum/UCLAX-23W-ML/main/Weeks/Week03/data/gdp-vs-lifesatisfaction-classes.csv')"
    },
    {
      "cell_type": "code",
      "execution_count": null,
      "id": "e51ea9e7-402f-47bf-bc2f-6058d6e1ae21",
      "metadata": {
        "trusted": true
      },
      "outputs": [],
      "source": "data"
    },
    {
      "cell_type": "code",
      "execution_count": null,
      "id": "b7c3d5be-6f5f-45e0-8558-6ccc0621c838",
      "metadata": {
        "trusted": true
      },
      "outputs": [],
      "source": "data.plot.scatter(x='GDP per capita', y='Life satisfied')\n# or equally well\n# data.plot(x='GDP per capita', y='Life satisfied', kind='scatter')"
    },
    {
      "cell_type": "markdown",
      "id": "3856beba-e0f6-454c-b004-a26a5b508cae",
      "metadata": {},
      "source": "## Scikit-learn"
    },
    {
      "cell_type": "markdown",
      "id": "714c3622-9784-49f2-8f2b-205881c823e8",
      "metadata": {},
      "source": "<img src=\"images/scikit-learn.png\" width=500>\n\nhttps://scikit-learn.org/stable/index.html\n<br>\nhttps://scikit-learn.org/stable/modules/generated/sklearn.neighbors.KNeighborsClassifier.html"
    },
    {
      "cell_type": "markdown",
      "id": "24990720-682b-477d-ada2-94673ab7ec0c",
      "metadata": {},
      "source": "## logistic regression"
    },
    {
      "cell_type": "code",
      "execution_count": null,
      "id": "0bce4549-f67a-41d2-a7b8-6f2b92df0da7",
      "metadata": {
        "trusted": true
      },
      "outputs": [],
      "source": "import sklearn.linear_model"
    },
    {
      "cell_type": "code",
      "execution_count": null,
      "id": "34fb5ae2-a4b4-4592-a193-7a2451380113",
      "metadata": {
        "trusted": true
      },
      "outputs": [],
      "source": "# Before with linear regression\n# model = sklearn.linear_model.LinearRegression()\n\n# Classifier\nmodel = sklearn.linear_model.LogisticRegression()"
    },
    {
      "cell_type": "code",
      "execution_count": null,
      "id": "d808d235-559b-404c-9332-a07ca2b89c4f",
      "metadata": {
        "trusted": true
      },
      "outputs": [],
      "source": "# Another technical note like before\n# sklearn will expect x to be like a 2D array \n# which in Pandas means like a dataframe rather than a series\n# We make a dataframe by indexing the dataframe with a list containing our column names\n\nx = data[['GDP per capita']]\ny = data['Life satisfied']"
    },
    {
      "cell_type": "code",
      "execution_count": null,
      "id": "e154c994-5e86-4600-946e-de00601da141",
      "metadata": {
        "trusted": true
      },
      "outputs": [],
      "source": "# Train the model\nmodel.fit(x,y)"
    },
    {
      "cell_type": "code",
      "execution_count": null,
      "id": "6e68fac1-0d85-4844-a2e7-dd820f8959e9",
      "metadata": {
        "trusted": true
      },
      "outputs": [],
      "source": "# Make a prediction\nx_test = [[25000]]\nmodel.predict(x_test)"
    },
    {
      "cell_type": "code",
      "execution_count": null,
      "id": "72e43f1e-ade6-473e-9d7d-8fee7a438dda",
      "metadata": {
        "trusted": true
      },
      "outputs": [],
      "source": "# Visualize what the predictions are for this model\n\ndata.plot.scatter(x='GDP per capita', y='Life satisfied')\n\nx_new = np.linspace(8000,58000,100000)\nx_new = x_new.reshape(-1,1)\ny_pred = model.predict(x_new)\nplt.plot(x_new, y_pred)\n\nplt.show()"
    },
    {
      "cell_type": "markdown",
      "id": "4456007f-ddda-4503-8dbd-76e2e69fc1de",
      "metadata": {},
      "source": "## Learned model"
    },
    {
      "cell_type": "markdown",
      "id": "ebaf6c1b-27ed-4a0d-8544-584b93e48f25",
      "metadata": {},
      "source": "With logistic regression, let's get a little bit more clear on what the learned model is."
    },
    {
      "cell_type": "code",
      "execution_count": null,
      "id": "ece97b61-84c1-4a46-91af-5e1ebeb9d1d3",
      "metadata": {
        "trusted": true
      },
      "outputs": [],
      "source": "model.classes_"
    },
    {
      "cell_type": "code",
      "execution_count": null,
      "id": "cec40fbe-6ca9-4b8b-a5ac-8014de202c8a",
      "metadata": {
        "trusted": true
      },
      "outputs": [],
      "source": "# For this model, we can actually retrieve parameters for our model equation\nprint(model.coef_, model.intercept_)"
    },
    {
      "cell_type": "markdown",
      "id": "32c62421-b7ec-4184-b71e-87e39ece8245",
      "metadata": {},
      "source": "What's the intercept and slope for a logistic model?\n\n$$f(x) = \\frac{1}{1+e^{-(a_0 + a_1 x)}}$$"
    },
    {
      "cell_type": "code",
      "execution_count": null,
      "id": "e4c7418b-29a1-4c0b-9203-b3b87117c629",
      "metadata": {
        "trusted": true
      },
      "outputs": [],
      "source": "# Visualize what the predictions are for this model\n\nplt.plot(x,y,'ko')\n\nx_new = np.linspace(8000,58000,100000)\nx_new = x_new.reshape(-1,1)\n\n# the predicted y values are now from a model equation, \n# not from results of calling the predict function\ny_model = 1 / (1 + np.exp(-(model.intercept_ + model.coef_ * x_new)))\n\nplt.plot(x_new, y_model)\n\nplt.show()"
    },
    {
      "cell_type": "markdown",
      "id": "82ae252a-c59c-4d9e-9621-630321752a4f",
      "metadata": {},
      "source": "The learned model $f(x)$ gives us a probability of belonging to the \"positive\" class, and we can take $f(x) > 0.5$, for example, to be a threshold for classifying as one class vs another. "
    },
    {
      "cell_type": "code",
      "execution_count": null,
      "id": "ed10a689-039e-45bb-86ff-d9edd8b7a6ca",
      "metadata": {
        "trusted": true
      },
      "outputs": [],
      "source": "# Visualize what the predictions are for this model\n\ndata.plot.scatter(x='GDP per capita', y='Life satisfied')\n#plt.plot(x,y,'ko')\n\nx_new = np.linspace(8000,58000,100000)\nx_new = x_new.reshape(-1,1)\n\n# the predicted y values are now from a model equation, \n# not from results of calling the predict function\ny_model = 1 / (1 + np.exp(-(model.intercept_ + model.coef_ * x_new)))\n\nplt.plot(x_new, y_model)\n\nplt.axhline(0.5,color='r',linestyle='--')\n\nx_new = np.linspace(8000,58000,100000)\nx_new = x_new.reshape(-1,1)\ny_pred = model.predict(x_new)\nplt.plot(x_new, y_pred)\n\nplt.show()"
    },
    {
      "cell_type": "markdown",
      "id": "e6246e83-885e-4b44-a231-64d01330a38f",
      "metadata": {},
      "source": "## Ascertaining the \"goodness\" of the model fit"
    },
    {
      "cell_type": "code",
      "execution_count": null,
      "id": "9e4f98dd-64d3-4910-8f9a-503b3cc49474",
      "metadata": {
        "trusted": true
      },
      "outputs": [],
      "source": "model.score(x, y)"
    },
    {
      "cell_type": "code",
      "execution_count": null,
      "id": "dd1e33ab-9834-4cc2-9416-35accc762c5a",
      "metadata": {
        "trusted": true
      },
      "outputs": [],
      "source": "# If the model correctly classifies i points and misclassifies j points out of k total\n# the score should be i/k\n27/29"
    },
    {
      "cell_type": "markdown",
      "id": "52ce14c2-b850-49c6-9558-1b91ceb264ac",
      "metadata": {},
      "source": "What is the above termed?\n1. accuracy\n2. precision\n3. recall\n4. actually, none of these"
    },
    {
      "cell_type": "code",
      "execution_count": null,
      "id": "7af71ec2-e555-47a2-807f-27a0911c6db0",
      "metadata": {
        "trusted": true
      },
      "outputs": [],
      "source": "# Note that when calculating the precision and recall here\n# you will need to specify what class is positive vs negative (the \"pos_label\")\n\nprint(f\"Accuracy: {sklearn.metrics.accuracy_score(y, model.predict(x)):.2%}\")\nprint(f\"Precision: {sklearn.metrics.precision_score(y, model.predict(x), pos_label='Satisfied'):.2%}\")\nprint(f\"Recall: {sklearn.metrics.recall_score(y, model.predict(x), pos_label='Satisfied'):.2%}\")"
    },
    {
      "cell_type": "code",
      "execution_count": null,
      "id": "5bb2e0d8-9326-47e5-b695-f45b5831431d",
      "metadata": {
        "trusted": true
      },
      "outputs": [],
      "source": "from sklearn.metrics import confusion_matrix"
    },
    {
      "cell_type": "markdown",
      "id": "52852e8e-40aa-4c3e-9329-bbd8dff78ef3",
      "metadata": {},
      "source": "You can get more information on the accuracy of the model with a confusion matrix. \n\nIn the case of binary classification, the confusion matrix shows true negatives, true positives, false positives, and false positives."
    },
    {
      "cell_type": "code",
      "execution_count": null,
      "id": "6fdace80-bdcd-4910-acfc-aa5c3b78a7bc",
      "metadata": {
        "trusted": true
      },
      "outputs": [],
      "source": "confusion_matrix(y, model.predict(x))"
    },
    {
      "cell_type": "markdown",
      "id": "7bbe2542-8fe7-4afe-9e8e-68512b1bac52",
      "metadata": {},
      "source": "## If we take \"Not Satisfied\" as our negative, which of the above are the \n* true negatives? -- \n* true positives? -- \n* false negatives? -- \n* false positives? -- "
    },
    {
      "cell_type": "code",
      "execution_count": null,
      "id": "5bdb4539-85e5-4852-ba20-bc20589313be",
      "metadata": {
        "trusted": true
      },
      "outputs": [],
      "source": "confmat = confusion_matrix(y, model.predict(x))\n\nfig, ax = plt.subplots(figsize=(5, 5))\nax.imshow(confmat)\n\n# the below just sets the axis labels, tick marks, and text inside the boxes\nax.xaxis.set(ticks=(0, 1), ticklabels=('Predicted 0s', 'Predicted 1s'))\nax.yaxis.set(ticks=(0, 1), ticklabels=('Actual 0s', 'Actual 1s'))\nfor i in range(2):\n    for j in range(2):\n        ax.text(j, i, confmat[i,j], ha='center', va='center', color='red')\n\nplt.show()"
    },
    {
      "cell_type": "code",
      "execution_count": null,
      "id": "7c34fcd3-bfb2-4570-b4fa-b9716b30161c",
      "metadata": {
        "trusted": true
      },
      "outputs": [],
      "source": "from sklearn.metrics import classification_report"
    },
    {
      "cell_type": "code",
      "execution_count": null,
      "id": "9e264c4d-b879-46cc-b56d-d1a070f46adf",
      "metadata": {
        "trusted": true
      },
      "outputs": [],
      "source": "print(classification_report(y, model.predict(x)))"
    },
    {
      "cell_type": "markdown",
      "id": "3df484a3-6b76-410e-b31f-5b3384a54021",
      "metadata": {},
      "source": "## Breast cancer dataset"
    },
    {
      "cell_type": "code",
      "execution_count": null,
      "id": "e8010787-0291-452f-a699-997ce2425ad2",
      "metadata": {
        "trusted": true
      },
      "outputs": [],
      "source": "import sklearn.datasets\nimport sklearn.model_selection"
    },
    {
      "cell_type": "code",
      "execution_count": null,
      "id": "8cfda027-b843-453e-8c41-9e0491b3f251",
      "metadata": {
        "trusted": true
      },
      "outputs": [],
      "source": "cancer = sklearn.datasets.load_breast_cancer()"
    },
    {
      "cell_type": "code",
      "execution_count": null,
      "id": "fe33d7ad-5ba2-4b8d-809f-4e2eb0c215c3",
      "metadata": {
        "trusted": true
      },
      "outputs": [],
      "source": "print(cancer.DESCR)"
    },
    {
      "cell_type": "code",
      "execution_count": null,
      "id": "4b31e7b1-e982-4d3f-b74e-76c766e41154",
      "metadata": {
        "trusted": true
      },
      "outputs": [],
      "source": "x = cancer.data\ny = cancer.target"
    },
    {
      "cell_type": "code",
      "execution_count": null,
      "id": "5ac328ec-7232-4d75-ab09-97556b96e3b3",
      "metadata": {
        "trusted": true
      },
      "outputs": [],
      "source": "plt.plot(x[:,0],y,'ko')"
    },
    {
      "cell_type": "code",
      "execution_count": null,
      "id": "6635fd6c-02af-4614-85b2-066519e469f2",
      "metadata": {
        "trusted": true
      },
      "outputs": [],
      "source": "X_train, X_test, y_train, y_test = sklearn.model_selection.train_test_split(x, y, random_state=0)"
    },
    {
      "cell_type": "code",
      "execution_count": null,
      "id": "b0a66cd2-b62a-46dd-b3f2-bd2b1a8c99c3",
      "metadata": {
        "trusted": true
      },
      "outputs": [],
      "source": "# Before for regression:\n# model = sklearn.neighbors.KNeighborsRegressor(n_neighbors=1)\n\n# Classifier\nmodel = sklearn.linear_model.LogisticRegression()"
    },
    {
      "cell_type": "code",
      "execution_count": null,
      "id": "3a2e171d-fb0d-4058-a897-db90f6ee5144",
      "metadata": {
        "trusted": true
      },
      "outputs": [],
      "source": "# Train the model\nmodel.fit(X_train[:,0].reshape(-1,1),y_train)"
    },
    {
      "cell_type": "code",
      "execution_count": null,
      "id": "ef664ae6-147e-4cec-9866-cecfd1e978ee",
      "metadata": {
        "trusted": true
      },
      "outputs": [],
      "source": "# Make a prediction\nx_test = [[20]]\nmodel.predict(x_test)"
    },
    {
      "cell_type": "code",
      "execution_count": null,
      "id": "064881e8-be24-4fd6-a869-c48dbd0634c6",
      "metadata": {
        "trusted": true
      },
      "outputs": [],
      "source": "# Visualize what the predictions are for this model\n\n#data.plot.scatter(x='GDP per capita', y='Life satisfied')\nplt.plot(x[:,0],y,'ko')\n\nx_new = np.linspace(0,30,1000)\nx_new = x_new.reshape(-1,1)\ny_pred = model.predict(x_new)\nplt.plot(x_new, y_pred)\n\nplt.show()"
    },
    {
      "cell_type": "code",
      "execution_count": null,
      "id": "58554530-af31-41e1-8341-e33da4b6a108",
      "metadata": {
        "trusted": true
      },
      "outputs": [],
      "source": "# Note that when calculating the precision and recall here\n# you will need to specify what class is positive vs negative (the \"pos_label\")\n\nprint(f\"Accuracy: {sklearn.metrics.accuracy_score(y_test, model.predict(X_test[:,0].reshape(-1,1))):.2%}\")\nprint(f\"Precision: {sklearn.metrics.precision_score(y_test, model.predict(X_test[:,0].reshape(-1,1)), pos_label=1):.2%}\")\nprint(f\"Recall: {sklearn.metrics.recall_score(y_test, model.predict(X_test[:,0].reshape(-1,1)), pos_label=1):.2%}\")"
    },
    {
      "cell_type": "code",
      "execution_count": null,
      "id": "4c542980-0deb-459b-8ca3-721837c04d55",
      "metadata": {
        "trusted": true
      },
      "outputs": [],
      "source": "from sklearn.metrics import confusion_matrix"
    },
    {
      "cell_type": "markdown",
      "id": "58ba6505-05cf-446b-8c5b-e4a9697ef923",
      "metadata": {},
      "source": "You can get more information on the accuracy of the model with a confusion matrix. \n\nIn the case of binary classification, the confusion matrix shows true negatives, true positives, false positives, and false positives."
    },
    {
      "cell_type": "code",
      "execution_count": null,
      "id": "1d46bc84-9dcc-49c2-b685-c9b31ed230cf",
      "metadata": {
        "trusted": true
      },
      "outputs": [],
      "source": "confusion_matrix(y_test, model.predict(X_test[:,0].reshape(-1,1)))"
    },
    {
      "cell_type": "markdown",
      "id": "33367355-1232-422d-9115-4fc29270a099",
      "metadata": {},
      "source": "## If we take \"Not Satisfied\" as our negative, which of the above are the \n* true negatives? -- \n* true positives? -- \n* false negatives? -- \n* false positives? -- "
    },
    {
      "cell_type": "code",
      "execution_count": null,
      "id": "0aed70b9-94e0-4dbc-a2bf-cdd974ee2525",
      "metadata": {
        "trusted": true
      },
      "outputs": [],
      "source": "confmat = confusion_matrix(y_test, model.predict(X_test[:,0].reshape(-1,1)))\n\nfig, ax = plt.subplots(figsize=(5, 5))\nax.imshow(confmat)\n\n# the below just sets the axis labels, tick marks, and text inside the boxes\nax.xaxis.set(ticks=(0, 1), ticklabels=('Predicted 0s', 'Predicted 1s'))\nax.yaxis.set(ticks=(0, 1), ticklabels=('Actual 0s', 'Actual 1s'))\nfor i in range(2):\n    for j in range(2):\n        ax.text(j, i, confmat[i,j], ha='center', va='center', color='red')\n\nplt.show()"
    },
    {
      "cell_type": "code",
      "execution_count": null,
      "id": "1019bf01-2c47-4f71-9973-68156e2af1b0",
      "metadata": {
        "trusted": true
      },
      "outputs": [],
      "source": "from sklearn.metrics import classification_report"
    },
    {
      "cell_type": "code",
      "execution_count": null,
      "id": "91cdc8e4-c1d7-4254-98d8-238a9f5ea173",
      "metadata": {
        "trusted": true
      },
      "outputs": [],
      "source": "print(classification_report(y_test, model.predict(X_test[:,0].reshape(-1,1))))"
    },
    {
      "cell_type": "code",
      "execution_count": null,
      "id": "aba6f8f0-ca55-4eb7-8341-6ed45a68e45f",
      "metadata": {
        "trusted": true
      },
      "outputs": [],
      "source": "model.classes_"
    },
    {
      "cell_type": "code",
      "execution_count": null,
      "id": "d65dee43-8b7f-497d-89c9-34292deb0c75",
      "metadata": {
        "trusted": true
      },
      "outputs": [],
      "source": "# For this model, we can actually retrieve parameters for our model equation\nprint(model.coef_, model.intercept_)"
    },
    {
      "cell_type": "markdown",
      "id": "a7998b58-cde3-43a6-a731-7d17c6bd1b94",
      "metadata": {},
      "source": "What's the intercept and slope for a logistic model?\n\n$$f(x) = \\frac{1}{1+e^{-(a_0 + a_1 x)}}$$"
    },
    {
      "cell_type": "code",
      "execution_count": null,
      "id": "4c7d1ca7-dd13-48ee-9f0c-ddb4645ca1aa",
      "metadata": {
        "trusted": true
      },
      "outputs": [],
      "source": "# Visualize what the predictions are for this model\n\nplt.plot(x[:,0],y,'ko')\n\nx_new = np.linspace(0,30,1000)\nx_new = x_new.reshape(-1,1)\n\n# the predicted y values are now from a model equation, \n# not from results of calling the predict function\ny_model = 1 / (1 + np.exp(-(model.intercept_ + model.coef_ * x_new)))\n\nplt.plot(x_new, y_model)\n\nplt.show()"
    },
    {
      "cell_type": "markdown",
      "id": "24700ae0-785b-4cf7-b34f-272c0b880606",
      "metadata": {},
      "source": "The learned model $f(x)$ gives us a probability of belonging to the \"positive\" class, and we can take $f(x) > 0.5$, for example, to be a threshold for classifying as one class vs another. "
    },
    {
      "cell_type": "code",
      "execution_count": null,
      "id": "4aaae26c-9e0e-459f-a553-845c55c8d5c4",
      "metadata": {
        "trusted": true
      },
      "outputs": [],
      "source": "# Visualize what the predictions are for this model\n\nplt.plot(x[:,0],y,'ko')\n#plt.plot(x,y,'ko')\n\nx_new = np.linspace(0,30,1000)\nx_new = x_new.reshape(-1,1)\n\n# the predicted y values are now from a model equation, \n# not from results of calling the predict function\ny_model = 1 / (1 + np.exp(-(model.intercept_ + model.coef_ * x_new)))\n\nplt.plot(x_new, y_model)\n\nplt.axhline(0.5,color='r',linestyle='--')\n\nx_new = np.linspace(0,30,1000)\nx_new = x_new.reshape(-1,1)\ny_pred = model.predict(x_new)\nplt.plot(x_new, y_pred)\n\nplt.show()"
    },
    {
      "cell_type": "code",
      "execution_count": null,
      "id": "7366f789",
      "metadata": {
        "trusted": true
      },
      "outputs": [],
      "source": ""
    }
  ],
  "metadata": {
    "kernelspec": {
      "display_name": "Python 3 (ipykernel)",
      "language": "python",
      "name": "python3"
    },
    "language_info": {
      "codemirror_mode": {
        "name": "ipython",
        "version": 3
      },
      "file_extension": ".py",
      "mimetype": "text/x-python",
      "name": "python",
      "nbconvert_exporter": "python",
      "pygments_lexer": "ipython3",
      "version": "3.10.8"
    }
  },
  "nbformat": 4,
  "nbformat_minor": 5
}