{
  "cells": [
    {
      "cell_type": "markdown",
      "id": "0a01987c-e1a0-4c6f-b18f-0a8aae96dcb7",
      "metadata": {},
      "source": "# Bagging (with scikit-learn)"
    },
    {
      "cell_type": "code",
      "execution_count": null,
      "id": "026e801b-a442-4cb8-9ef7-0ba0513fbdb1",
      "metadata": {
        "trusted": true
      },
      "outputs": [],
      "source": "import numpy as np\nimport pandas as pd\nimport seaborn as sns\nimport matplotlib.pyplot as plt\nfrom sklearn.datasets import make_blobs\nfrom sklearn.linear_model import LogisticRegression\nfrom sklearn.tree import DecisionTreeClassifier\nimport sklearn.tree\nfrom sklearn.inspection import DecisionBoundaryDisplay\nfrom sklearn.model_selection import train_test_split\nfrom sklearn.neighbors import KNeighborsClassifier\nfrom sklearn.ensemble import VotingClassifier\nfrom sklearn.metrics import accuracy_score\nimport dtreeviz"
    },
    {
      "cell_type": "markdown",
      "id": "26b4a7ae",
      "metadata": {},
      "source": "## Our previous regression example"
    },
    {
      "cell_type": "code",
      "execution_count": null,
      "id": "b3167314",
      "metadata": {
        "trusted": true
      },
      "outputs": [],
      "source": "x = np.linspace(0,10,100)"
    },
    {
      "cell_type": "code",
      "execution_count": null,
      "id": "30019786",
      "metadata": {
        "trusted": true
      },
      "outputs": [],
      "source": "np.random.seed(42)\nnoise = np.random.normal(0,1.5,100)\n\ny = x + noise #0.3*(x-5)**3 + noise"
    },
    {
      "cell_type": "code",
      "execution_count": null,
      "id": "614e2b17",
      "metadata": {
        "trusted": true
      },
      "outputs": [],
      "source": "plt.plot(x,y,'ko')"
    },
    {
      "cell_type": "markdown",
      "id": "f8527e65",
      "metadata": {},
      "source": "## Straight-forward linear regression"
    },
    {
      "cell_type": "code",
      "execution_count": null,
      "id": "86e2d42d",
      "metadata": {
        "trusted": true
      },
      "outputs": [],
      "source": "x_train, x_test, y_train, y_test = sklearn.model_selection.train_test_split(x.reshape(-1,1), y, random_state=42)"
    },
    {
      "cell_type": "code",
      "execution_count": null,
      "id": "06d03476",
      "metadata": {
        "trusted": true
      },
      "outputs": [],
      "source": "lin_reg = sklearn.linear_model.LinearRegression()\nlin_reg.fit(x_train,y_train)\nprint('R2 score: ',lin_reg.score(x_test, y_test))"
    },
    {
      "cell_type": "code",
      "execution_count": null,
      "id": "a951f96b",
      "metadata": {
        "trusted": true
      },
      "outputs": [],
      "source": "plt.plot(x_train,y_train,'ko')\nplt.plot(x_test,y_test,'bo')\nplt.plot([0,10],lin_reg.predict([[0],[10]]))"
    },
    {
      "cell_type": "markdown",
      "id": "1d439adf",
      "metadata": {},
      "source": "## BaggingRegressor with Linear Regression"
    },
    {
      "cell_type": "code",
      "execution_count": null,
      "id": "693529db",
      "metadata": {
        "trusted": true
      },
      "outputs": [],
      "source": "from sklearn.ensemble import BaggingRegressor"
    },
    {
      "cell_type": "code",
      "execution_count": null,
      "id": "63795322",
      "metadata": {
        "trusted": true
      },
      "outputs": [],
      "source": "# Be careful, by the way, about using Regressor vs Classifier (below we'll also use Classifiers)\n\nbag_reg = BaggingRegressor(sklearn.linear_model.LinearRegression(), \n                           n_estimators=5,\n                           max_samples=5, \n                           bootstrap=True, \n                           n_jobs=-1)\nbag_reg.fit(x_train, y_train)\ny_pred = bag_reg.predict(x_test)\nprint(bag_reg.__class__.__name__, sklearn.metrics.r2_score(y_test, y_pred))\n\nplt.plot(x_train,y_train,'ko')\nplt.plot(x_test,y_test,'bo')\nplt.plot([0,10],bag_reg.predict([[0],[10]]), 'g')\nplt.plot([0,10],lin_reg.predict([[0],[10]]), 'r')"
    },
    {
      "cell_type": "markdown",
      "id": "ed4aee8e",
      "metadata": {},
      "source": "Try tinkering around with the number of estimators and the number of samples.\n* Note:  max_samples is the integer number of samples if you specify an integer, but it is the fraction of the total number of data points if you specify a float."
    },
    {
      "cell_type": "markdown",
      "id": "57418a20",
      "metadata": {},
      "source": "## Decision Tree"
    },
    {
      "cell_type": "code",
      "execution_count": null,
      "id": "ecb16fbe",
      "metadata": {
        "trusted": true
      },
      "outputs": [],
      "source": "tree_reg = sklearn.tree.DecisionTreeRegressor()\ntree_reg.fit(x_train,y_train)\nprint('R2 score: ',tree_reg.score(x_test, y_test))"
    },
    {
      "cell_type": "code",
      "execution_count": null,
      "id": "45de6c97",
      "metadata": {
        "trusted": true
      },
      "outputs": [],
      "source": "plt.plot(x_train,y_train,'ko')\nplt.plot(x_test,y_test,'bo')\nxnew=np.linspace(0,10,1000).reshape(-1,1)\nynew=tree_reg.predict(xnew)\nplt.plot(xnew,ynew)"
    },
    {
      "cell_type": "markdown",
      "id": "4b68bbd2",
      "metadata": {},
      "source": "## Random Forest"
    },
    {
      "cell_type": "code",
      "execution_count": null,
      "id": "8ed389a2",
      "metadata": {
        "trusted": true
      },
      "outputs": [],
      "source": "rf_reg = sklearn.ensemble.RandomForestRegressor(n_jobs=-1,\n                                                random_state=42)\nrf_reg.fit(x_train,y_train)\nprint('R2 score: ',rf_reg.score(x_test, y_test))"
    },
    {
      "cell_type": "code",
      "execution_count": null,
      "id": "ae68426d",
      "metadata": {
        "trusted": true
      },
      "outputs": [],
      "source": "plt.plot(x_train,y_train,'ko')\nplt.plot(x_test,y_test,'bo')\nxnew=np.linspace(0,10,1000).reshape(-1,1)\nynew=rf_reg.predict(xnew)\nplt.plot(xnew,ynew)"
    },
    {
      "cell_type": "code",
      "execution_count": null,
      "id": "9e594bc5",
      "metadata": {
        "trusted": true
      },
      "outputs": [],
      "source": "rf_reg = sklearn.ensemble.RandomForestRegressor(max_depth=3,\n                                                n_jobs=-1,\n                                                random_state=42)\nrf_reg.fit(x_train,y_train)\nprint('R2 score: ',rf_reg.score(x_test, y_test))"
    },
    {
      "cell_type": "code",
      "execution_count": null,
      "id": "4efc9688",
      "metadata": {
        "trusted": true
      },
      "outputs": [],
      "source": "plt.plot(x_train,y_train,'ko')\nplt.plot(x_test,y_test,'bo')\nxnew=np.linspace(0,10,1000).reshape(-1,1)\nynew=rf_reg.predict(xnew)\nplt.plot(xnew,ynew)"
    },
    {
      "cell_type": "markdown",
      "id": "0f27a003-f212-4d8b-86a4-b7e648eee9bb",
      "metadata": {},
      "source": "# New Example:  Classification with Moons Dataset"
    },
    {
      "cell_type": "code",
      "execution_count": null,
      "id": "6e757460-258d-4ebd-a974-41a8db4118a4",
      "metadata": {
        "trusted": true
      },
      "outputs": [],
      "source": "from sklearn.datasets import make_moons"
    },
    {
      "cell_type": "code",
      "execution_count": null,
      "id": "aa15b166-77af-4cad-8241-58b802e9d596",
      "metadata": {
        "trusted": true
      },
      "outputs": [],
      "source": "x, y = make_moons(n_samples=400, noise=0.3, random_state=42)"
    },
    {
      "cell_type": "code",
      "execution_count": null,
      "id": "e80565f5-40ae-4a0b-af4f-a000653e6aec",
      "metadata": {
        "trusted": true
      },
      "outputs": [],
      "source": "sns.scatterplot(x=x[:,0], \n                y=x[:,1],\n                hue=y)"
    },
    {
      "cell_type": "code",
      "execution_count": null,
      "id": "8e0f436e-ee05-4afc-8bcb-f3bff82c376d",
      "metadata": {
        "trusted": true
      },
      "outputs": [],
      "source": "x_train, x_test, y_train, y_test = train_test_split(x, \n                                                    y, \n                                                    random_state=0)"
    },
    {
      "cell_type": "markdown",
      "id": "2546f25d",
      "metadata": {},
      "source": "## Short review with VotingClassifier"
    },
    {
      "cell_type": "code",
      "execution_count": null,
      "id": "5ec07482-ecd9-4007-b15c-26fe827d4a03",
      "metadata": {
        "trusted": true
      },
      "outputs": [],
      "source": "knn_clf = KNeighborsClassifier()\nlogreg_clf = LogisticRegression()\ntree_clf = DecisionTreeClassifier()"
    },
    {
      "cell_type": "code",
      "execution_count": null,
      "id": "8fda7347-c72b-4cae-8115-ad3765d68709",
      "metadata": {
        "trusted": true
      },
      "outputs": [],
      "source": "voting_clf = VotingClassifier(\n    estimators=[('lr', logreg_clf), ('knn', knn_clf), ('tr', tree_clf)],\n    voting='hard')"
    },
    {
      "cell_type": "code",
      "execution_count": null,
      "id": "190be6a0-3894-45bb-bc5c-51e2b620a66f",
      "metadata": {
        "trusted": true
      },
      "outputs": [],
      "source": "voting_clf.fit(x_train, y_train)"
    },
    {
      "cell_type": "code",
      "execution_count": null,
      "id": "338d9024-ff29-4fa5-ad95-6bf407043b1b",
      "metadata": {
        "trusted": true
      },
      "outputs": [],
      "source": "classifiers = [knn_clf, logreg_clf, tree_clf, voting_clf]"
    },
    {
      "cell_type": "code",
      "execution_count": null,
      "id": "095e1bc8-b6a6-4d23-9c78-a9c6717664ea",
      "metadata": {
        "trusted": true
      },
      "outputs": [],
      "source": "for clf in classifiers:\n    clf.fit(x_train, y_train)\n    y_pred = clf.predict(x_test)\n    print(clf.__class__.__name__, accuracy_score(y_test, y_pred))"
    },
    {
      "cell_type": "code",
      "execution_count": null,
      "id": "f074e64a-ee77-4d11-9c91-74ac1a468f87",
      "metadata": {
        "trusted": true
      },
      "outputs": [],
      "source": "votingsoft_clf = VotingClassifier(\n    estimators=[('lr', logreg_clf), ('knn', knn_clf), ('tr', tree_clf)],\n    voting='soft')\n\nvotingsoft_clf.fit(x_train, y_train)\n\nclassifiers = [knn_clf, logreg_clf, tree_clf, voting_clf, votingsoft_clf]\n\nfor clf in classifiers:\n    clf.fit(x_train, y_train)\n    y_pred = clf.predict(x_test)\n    print(clf.__class__.__name__, accuracy_score(y_test, y_pred))"
    },
    {
      "cell_type": "markdown",
      "id": "70334dfb-3647-45e8-8407-3128559f3637",
      "metadata": {},
      "source": "# Bagging"
    },
    {
      "cell_type": "code",
      "execution_count": null,
      "id": "74ca0c8f",
      "metadata": {
        "trusted": true
      },
      "outputs": [],
      "source": "from sklearn.ensemble import BaggingClassifier\nfrom sklearn.tree import DecisionTreeClassifier"
    },
    {
      "cell_type": "code",
      "execution_count": null,
      "id": "807e5105-e803-4db7-98c7-04997312197d",
      "metadata": {
        "trusted": true
      },
      "outputs": [],
      "source": "bag_clf = BaggingClassifier(DecisionTreeClassifier(), \n                            n_estimators=500,\n                            max_samples=100, \n                            bootstrap=True, \n                            n_jobs=-1)\nbag_clf.fit(x_train, y_train)\ny_pred = bag_clf.predict(x_test)\nprint(bag_clf.__class__.__name__, accuracy_score(y_test, y_pred))"
    },
    {
      "cell_type": "code",
      "execution_count": null,
      "id": "cea88af9-9d6e-4038-8938-b613c968f6fe",
      "metadata": {
        "trusted": true
      },
      "outputs": [],
      "source": "# plot the decision boundary with the data\n\nDecisionBoundaryDisplay.from_estimator(tree_clf, \n                                       x, \n                                       response_method=\"predict\",\n                                       cmap=\"RdBu\", \n                                       alpha=0.5\n)\n\nsns.scatterplot(x=x[:,0], \n                y=x[:,1],\n                hue=y,\n                palette=['red','green'])\n\nplt.legend(bbox_to_anchor=(1.05, 1), loc='upper left')"
    },
    {
      "cell_type": "code",
      "execution_count": null,
      "id": "7356430d-14f3-4a4c-93c7-0a0fdaf6c03d",
      "metadata": {
        "trusted": true
      },
      "outputs": [],
      "source": "# plot the decision boundary with the data\n\nDecisionBoundaryDisplay.from_estimator(bag_clf, \n                                       x, \n                                       response_method=\"predict\",\n                                       cmap=\"RdBu\", \n                                       alpha=0.5\n)\n\nsns.scatterplot(x=x[:,0], \n                y=x[:,1],\n                hue=y,\n                palette=['red','green'])\n\nplt.legend(bbox_to_anchor=(1.05, 1), loc='upper left')"
    },
    {
      "cell_type": "code",
      "execution_count": null,
      "id": "c93f6922-fd67-4440-a1b7-e16644e214e4",
      "metadata": {
        "trusted": true
      },
      "outputs": [],
      "source": "bag_clf = BaggingClassifier(DecisionTreeClassifier(), \n                            n_estimators=500,\n                            bootstrap=True, \n                            n_jobs=-1, \n                            oob_score=True)\n\nbag_clf.fit(x_train, y_train)\nbag_clf.oob_score_"
    },
    {
      "cell_type": "code",
      "execution_count": null,
      "id": "544b61e5-4768-47b2-a20e-2d64454221ed",
      "metadata": {
        "trusted": true
      },
      "outputs": [],
      "source": "y_pred = bag_clf.predict(x_test)\naccuracy_score(y_test, y_pred)"
    },
    {
      "cell_type": "markdown",
      "id": "44aa6c1a-894e-46ad-b1cf-b62afd861ad2",
      "metadata": {},
      "source": "## Random Forest"
    },
    {
      "cell_type": "code",
      "execution_count": null,
      "id": "9c5e603e-76ee-4628-bd94-8cc73fa658dd",
      "metadata": {
        "trusted": true
      },
      "outputs": [],
      "source": "from sklearn.ensemble import RandomForestClassifier"
    },
    {
      "cell_type": "code",
      "execution_count": null,
      "id": "61f65af5-345c-4e8c-adfa-b07aa66182f4",
      "metadata": {
        "trusted": true
      },
      "outputs": [],
      "source": "rnd_clf = RandomForestClassifier(n_estimators=500, \n                                 max_leaf_nodes=16, \n                                 n_jobs=-1,\n                                 random_state=42)\nrnd_clf.fit(x_train, y_train)\n\ny_pred_rf = rnd_clf.predict(x_test)\naccuracy_score(y_test, y_pred_rf)"
    },
    {
      "cell_type": "code",
      "execution_count": null,
      "id": "562f49e4-f81b-4e6e-baa1-acc7c3fdb52f",
      "metadata": {
        "trusted": true
      },
      "outputs": [],
      "source": "# equivalent bagging classifier\n\nbag_clf = BaggingClassifier(DecisionTreeClassifier(max_leaf_nodes=16),\n                            n_estimators=500, \n                            max_samples=1.0, \n                            bootstrap=True, \n                            n_jobs=-1,\n                            random_state=42)"
    },
    {
      "cell_type": "code",
      "execution_count": null,
      "id": "476f6b00-f517-4178-8f5c-bd32b6cfd0a7",
      "metadata": {
        "trusted": true
      },
      "outputs": [],
      "source": "bag_clf.fit(x_train, y_train)\ny_pred_rf = bag_clf.predict(x_test)\naccuracy_score(y_test, y_pred_rf)"
    },
    {
      "cell_type": "code",
      "execution_count": null,
      "id": "aa6a288b-4baf-4cd4-a203-00b9eaff90e4",
      "metadata": {
        "trusted": true
      },
      "outputs": [],
      "source": "classifiers = [knn_clf, logreg_clf, tree_clf, voting_clf, votingsoft_clf, rnd_clf]"
    },
    {
      "cell_type": "code",
      "execution_count": null,
      "id": "5f6d210b-daff-4c6f-9418-075d9627e50a",
      "metadata": {
        "trusted": true
      },
      "outputs": [],
      "source": "for clf in classifiers:\n    clf.fit(x_train, y_train)\n    y_pred = clf.predict(x_test)\n    print(clf.__class__.__name__, accuracy_score(y_test, y_pred))"
    },
    {
      "cell_type": "code",
      "execution_count": null,
      "id": "8c53ea09-4dfc-4dd0-a072-c82287eb1255",
      "metadata": {
        "trusted": true
      },
      "outputs": [],
      "source": "# plot the decision boundary with the data\n\nDecisionBoundaryDisplay.from_estimator(rnd_clf, \n                                       x, \n                                       response_method=\"predict\",\n                                       cmap=\"RdBu\", \n                                       alpha=0.5\n)\n\nsns.scatterplot(x=x[:,0], \n                y=x[:,1],\n                hue=y,\n                palette=['red','green'])\n\nplt.legend(bbox_to_anchor=(1.05, 1), loc='upper left')"
    }
  ],
  "metadata": {
    "kernelspec": {
      "display_name": "Python 3 (ipykernel)",
      "language": "python",
      "name": "python3"
    },
    "language_info": {
      "codemirror_mode": {
        "name": "ipython",
        "version": 3
      },
      "file_extension": ".py",
      "mimetype": "text/x-python",
      "name": "python",
      "nbconvert_exporter": "python",
      "pygments_lexer": "ipython3",
      "version": "3.10.8"
    }
  },
  "nbformat": 4,
  "nbformat_minor": 5
}